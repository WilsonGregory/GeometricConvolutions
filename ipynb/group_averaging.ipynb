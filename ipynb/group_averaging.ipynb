{
  "nbformat": 4,
  "nbformat_minor": 0,
  "metadata": {
    "colab": {
      "name": "group_averaging.ipynb",
      "provenance": [],
      "collapsed_sections": [],
      "include_colab_link": true
    },
    "kernelspec": {
      "name": "python3",
      "display_name": "Python 3"
    },
    "language_info": {
      "name": "python"
    }
  },
  "cells": [
    {
      "cell_type": "markdown",
      "metadata": {
        "id": "view-in-github",
        "colab_type": "text"
      },
      "source": [
        "<a href=\"https://colab.research.google.com/github/davidwhogg/EmuCosmoSim/blob/main/ipynb/group_averaging.ipynb\" target=\"_parent\"><img src=\"https://colab.research.google.com/assets/colab-badge.svg\" alt=\"Open In Colab\"/></a>"
      ]
    },
    {
      "cell_type": "markdown",
      "source": [
        "# Finding equivariant convolution operators by group averaging\n",
        "\n",
        "## Authors:\n",
        "- **David W. Hogg** (NYU) (Flatiron)\n",
        "- **Soledad Villar** (JHU)\n",
        "\n",
        "## License\n",
        "Copyright 2022 the authors. All rights reserved *for now*.\n",
        "\n",
        "## To-do\n",
        "- Do the 2-tensor filters!\n",
        "- Make structure so the code is agnostic about scalar/vector/tensor?\n",
        "\n",
        "## Bugs:\n",
        "- The group operators should be found by recursion; this ought to be more efficient.\n",
        "- Fix 3-d plotting so it does a real projection (not just a set of incomprehensible hacks)."
      ],
      "metadata": {
        "id": "YGB_OA6Cvlah"
      }
    },
    {
      "cell_type": "code",
      "execution_count": null,
      "metadata": {
        "id": "Q52E4gJ8UfGG"
      },
      "outputs": [],
      "source": [
        "import numpy as np\n",
        "import pylab as plt\n",
        "import itertools as it"
      ]
    },
    {
      "cell_type": "code",
      "source": [
        "# Set integers:\n",
        "D = 2 # D-dimensional image (must be 2 or 3 for plotting to work)\n",
        "filter_size = 5 # must be an odd integer"
      ],
      "metadata": {
        "id": "yP10B3wza7FO"
      },
      "execution_count": null,
      "outputs": []
    },
    {
      "cell_type": "code",
      "source": [
        "# Make all n x n pixels\n",
        "if filter_size % 2 != 1:\n",
        "    print(\"Filter size must be odd\")\n",
        "    assert False\n",
        "foo = range(-((filter_size - 1) // 2), ((filter_size + 1) // 2))\n",
        "pixels = np.array([pp for pp in it.product(foo, repeat=D)]).astype(int)"
      ],
      "metadata": {
        "id": "a09Z4sTfU01k"
      },
      "execution_count": null,
      "outputs": []
    },
    {
      "cell_type": "code",
      "source": [
        "# Define hash and unhash functions for pixel names\n",
        "def hash(pp):\n",
        "    return str(pp.astype(int))[1:-1]\n",
        "\n",
        "def unhash(kk):\n",
        "    return np.fromstring(kk, sep=\" \").astype(int)"
      ],
      "metadata": {
        "id": "sHIAWe8-hEie"
      },
      "execution_count": null,
      "outputs": []
    },
    {
      "cell_type": "code",
      "source": [
        "# Make all keys\n",
        "keys = [hash(pp) for pp in pixels]\n",
        "print(keys)"
      ],
      "metadata": {
        "id": "up-16BM7K1NT"
      },
      "execution_count": null,
      "outputs": []
    },
    {
      "cell_type": "code",
      "source": [
        "# Make all possible group generators\n",
        "\n",
        "# Make the flip operator\n",
        "foo = np.ones(D).astype(int)\n",
        "foo[0] = -1\n",
        "gg = np.diag(foo).astype(int)\n",
        "generators = [gg, ]\n",
        "\n",
        "# Make the 90-degree rotation operators\n",
        "for i in range(D):\n",
        "    for j in range(i + 1, D):\n",
        "        gg = np.eye(D).astype(int)\n",
        "        gg[i, i] = 0\n",
        "        gg[j, j] = 0\n",
        "        gg[i, j] = -1\n",
        "        gg[j, i] = 1\n",
        "        generators.append(gg)\n",
        "generators = np.array(generators)\n",
        "\n",
        "# Look at them\n",
        "for gg in generators:\n",
        "    print(gg)"
      ],
      "metadata": {
        "id": "Fvi8Vw0Z6mFh"
      },
      "execution_count": null,
      "outputs": []
    },
    {
      "cell_type": "code",
      "source": [
        "# Make all possible group operators.\n",
        "# This code is very wasteful; there is a better way with recursion.\n",
        "\n",
        "def make_all_operators(generators):\n",
        "    operators = np.array([np.eye(D).astype(int), ])\n",
        "    foo = 0\n",
        "    while len(operators) != foo:\n",
        "        foo = len(operators)\n",
        "        operators = make_new_operators(operators, generators)\n",
        "    return(operators)\n",
        "\n",
        "def make_new_operators(operators, generators):\n",
        "    for op in operators:\n",
        "        for gg in generators:\n",
        "            op2 = (gg @ op).astype(int)\n",
        "            operators = np.unique(np.append(operators, op2[None, :, :], axis=0), axis=0)\n",
        "    return operators\n",
        "\n",
        "group_operators = make_all_operators(generators)\n",
        "for gg in group_operators:\n",
        "    print(gg, \"determinant:\", np.linalg.slogdet(gg)[0].astype(int))"
      ],
      "metadata": {
        "id": "RXUqQpE8VlAy"
      },
      "execution_count": null,
      "outputs": []
    },
    {
      "cell_type": "code",
      "source": [
        "# Check that each group operator leaves the pixel list unchanged\n",
        "for gg in group_operators:\n",
        "    newpixels = np.array([gg @ pp.copy() for pp in pixels]).astype(int)\n",
        "    assert(set(tuple(pp) for pp in newpixels) == set(tuple(pp) for pp in pixels))\n",
        "    print(gg, True)"
      ],
      "metadata": {
        "id": "bppoRi9_YQGP"
      },
      "execution_count": null,
      "outputs": []
    },
    {
      "cell_type": "code",
      "source": [
        "# Check that the list of group operators is closed\n",
        "for gg in group_operators:\n",
        "    for gg2 in group_operators:\n",
        "        assert ((gg @ gg2).astype(int) in group_operators)\n",
        "    print(gg, True)"
      ],
      "metadata": {
        "id": "n960Qo6yY2p5"
      },
      "execution_count": null,
      "outputs": []
    },
    {
      "cell_type": "code",
      "source": [
        "# Check that gg.T is gg.inv for all gg in group?\n",
        "for gg in group_operators:\n",
        "    print(gg, np.allclose(gg @ gg.T, np.eye(D)))"
      ],
      "metadata": {
        "id": "8uC_pQ6kLqtR"
      },
      "execution_count": null,
      "outputs": []
    },
    {
      "cell_type": "code",
      "source": [
        "# Make filter manipulation functions\n",
        "\n",
        "def rotate_scalar(filter, gg):\n",
        "    newfilter = filter.copy()\n",
        "    for kk in keys:\n",
        "        newfilter[hash(gg @ unhash(kk))] = filter[kk]\n",
        "    return newfilter\n",
        "\n",
        "def rotate_pseudoscalar(filter, gg):\n",
        "    newfilter = filter.copy()\n",
        "    for kk in keys:\n",
        "        newfilter[hash(gg @ unhash(kk))] = (np.linalg.slogdet(gg)[0] * filter[kk]).astype(int)\n",
        "    return newfilter\n",
        "\n",
        "def rotate_vector(filter, gg):\n",
        "    newfilter = filter.copy()\n",
        "    for kk in keys:\n",
        "        newfilter[hash(gg @ unhash(kk))] = (gg @ filter[kk]).astype(int)\n",
        "    return newfilter\n",
        "\n",
        "def rotate_pseudovector(filter, gg):\n",
        "    newfilter = filter.copy()\n",
        "    for kk in keys:\n",
        "        newfilter[hash(gg @ unhash(kk))] = (np.linalg.slogdet(gg)[0] * gg @ filter[kk]).astype(int)\n",
        "    return newfilter\n",
        "\n",
        "def add(filter1, filter2):\n",
        "    newfilter = filter1.copy()\n",
        "    for kk in keys:\n",
        "        newfilter[kk] = filter1[kk] + filter2[kk]\n",
        "    return newfilter\n",
        "\n",
        "def pack_scalar_filter(amps):\n",
        "    assert len(amps) == filter_size ** D\n",
        "    return {kk: ff for kk, ff in zip(keys, amps)}\n",
        "\n",
        "def unpack_scalar_filter(filter):\n",
        "    return np.array([filter[kk] for kk in keys])\n",
        "\n",
        "def make_zero_scalar_filter():\n",
        "    return pack_scalar_filter(np.zeros(filter_size ** D).astype(int))\n",
        "\n",
        "def pack_vector_filter(vecs):\n",
        "    assert len(vecs) == filter_size ** D\n",
        "    return {kk: ff for kk, ff in zip(keys, vecs)}\n",
        "\n",
        "def unpack_vector_filter(filter):\n",
        "    return np.array([filter[kk] for kk in keys])\n",
        "\n",
        "def make_zero_vector_filter():\n",
        "    return pack_vector_filter(np.zeros((filter_size ** D, D)).astype(int))"
      ],
      "metadata": {
        "id": "kSy3X7eJjsFX"
      },
      "execution_count": null,
      "outputs": []
    },
    {
      "cell_type": "code",
      "source": [
        "# Make nxn independent scalar-to-scalar filters\n",
        "allfilters = []\n",
        "for kk in keys:\n",
        "    thisfilter = make_zero_scalar_filter()\n",
        "    thisfilter[kk] = 1\n",
        "    allfilters.append(thisfilter)"
      ],
      "metadata": {
        "id": "9u4cdg5ihcft"
      },
      "execution_count": null,
      "outputs": []
    },
    {
      "cell_type": "code",
      "source": [
        "# Sum all the group-element-tranformed scalar-to-scalar filters and make a matrix of them\n",
        "n = len(allfilters)\n",
        "filter_matrix = np.zeros((n, n)).astype(int)\n",
        "for i, f1 in enumerate(allfilters):\n",
        "    ff = make_zero_scalar_filter()\n",
        "    for gg in group_operators:\n",
        "        ff = add(ff, rotate_scalar(f1, gg))\n",
        "    filter_matrix[i] = unpack_scalar_filter(ff)"
      ],
      "metadata": {
        "id": "fjiTfZdCkjPw"
      },
      "execution_count": null,
      "outputs": []
    },
    {
      "cell_type": "code",
      "source": [
        "# What are the unique scalar-to-scalar filters?\n",
        "def get_unique_scalar_filters(matrix):\n",
        "    u, s, v = np.linalg.svd(matrix)\n",
        "    TINY = 1.e-5\n",
        "    sbig = s > TINY\n",
        "    if not np.any(sbig):\n",
        "        return []\n",
        "    # normalize the ampltidues so they max out at +/- 1.\n",
        "    amps = v[sbig] / np.max(np.abs(v[sbig]), axis=1)[:, None]\n",
        "    # make sure the amps are positive, generally\n",
        "    for i in range(len(amps)):\n",
        "        if np.sum(amps[i]) < 0:\n",
        "            amps[i] *= -1\n",
        "    # make sure that the zeros are zeros.\n",
        "    amps[np.abs(amps) < TINY] = 0.\n",
        "    return [pack_scalar_filter(aa) for aa in amps]\n",
        "\n",
        "filters = get_unique_scalar_filters(filter_matrix)\n",
        "for ff in filters:\n",
        "    print(ff)"
      ],
      "metadata": {
        "id": "xPOirFX7na-w"
      },
      "execution_count": null,
      "outputs": []
    },
    {
      "cell_type": "code",
      "source": [
        "# Visualize (badly) the scalar filters.\n",
        "\n",
        "FIGSIZE = (4, 3)\n",
        "XOFF, YOFF = 0.15, -0.1\n",
        "TINY = 1.e-5\n",
        "\n",
        "def setup_plot():\n",
        "    fig = plt.figure(figsize=FIGSIZE)\n",
        "\n",
        "def finish_plot(title):\n",
        "    plt.title(title)\n",
        "    if D == 2:\n",
        "        plt.xlim(np.min(pixels)-0.5, np.max(pixels)+0.5)\n",
        "        plt.ylim(np.min(pixels)-0.5, np.max(pixels)+0.5)\n",
        "    if D == 3:\n",
        "        plt.xlim(np.min(pixels)-0.75, np.max(pixels)+0.75)\n",
        "        plt.ylim(np.min(pixels)-0.75, np.max(pixels)+0.75)\n",
        "    plt.gca().set_aspect(\"equal\")\n",
        "\n",
        "def plot_boxes(xs, ys):\n",
        "    for x, y in zip(xs, ys):\n",
        "        plt.plot([x-0.5, x-0.5, x+0.5, x+0.5, x-0.5],\n",
        "                 [y-0.5, y+0.5, y+0.5, y-0.5, y-0.5], \"k-\", lw=0.5)\n",
        "\n",
        "def fill_boxes(xs, ys, ws):\n",
        "    for x, y, w in zip(xs, ys, ws):\n",
        "        if np.abs(w) > TINY:\n",
        "            plt.fill_between([x - 0.5, x + 0.5], [y - 0.5, y - 0.5], [y + 0.5, y + 0.5],\n",
        "                             color=\"k\", alpha=0.1)\n",
        "\n",
        "def plot_scalars(xs, ys, ws):\n",
        "    plot_boxes(xs, ys)\n",
        "    fill_boxes(xs, ys, ws)\n",
        "    plt.scatter(xs[ws > TINY], ys[ws > TINY], marker=\"+\", c=\"k\", s=(1000/filter_size)*ws[ws > TINY])\n",
        "    plt.scatter(xs[ws < TINY], ys[ws < TINY], marker=\"_\", c=\"k\", s=(-1000/filter_size)*ws[ws < TINY])\n",
        "\n",
        "def plot_scalar_filter(filter, title):\n",
        "    if D not in [2, 3]:\n",
        "        print(\"plot_scalar_filter(): Only works for D in [2, 3].\")\n",
        "        return\n",
        "    setup_plot()\n",
        "    xs, ys, zs = np.zeros(filter_size ** D), np.zeros(filter_size ** D), np.zeros(filter_size ** D)\n",
        "    ws = np.zeros(filter_size ** D)\n",
        "    if D == 2:\n",
        "        for i, kk in enumerate(keys):\n",
        "            xs[i], ys[i] = unhash(kk)\n",
        "            ws[i] = filter[kk]\n",
        "        plot_scalars(xs, ys, ws)\n",
        "    if D == 3:\n",
        "        for i, kk in enumerate(keys):\n",
        "            xs[i], ys[i], zs[i] = unhash(kk)\n",
        "            ws[i] = filter[kk]\n",
        "        plot_scalars(xs + XOFF * zs, ys + YOFF * zs, ws)\n",
        "    finish_plot(title)\n",
        "\n",
        "for i, ff in enumerate(filters):\n",
        "    plot_scalar_filter(ff, \"scalar \" + str(i))"
      ],
      "metadata": {
        "id": "fxMRi3VjD_zN"
      },
      "execution_count": null,
      "outputs": []
    },
    {
      "cell_type": "code",
      "source": [
        "# Sum all the group-element-tranformed scalar-to-pseudoscalar filters and make a matrix of them\n",
        "n = len(allfilters)\n",
        "pfilter_matrix = np.zeros((n, n)).astype(int)\n",
        "for i, f1 in enumerate(allfilters):\n",
        "    ff = make_zero_scalar_filter()\n",
        "    for gg in group_operators:\n",
        "        ff = add(ff, rotate_pseudoscalar(f1, gg))\n",
        "    pfilter_matrix[i] = unpack_scalar_filter(ff)"
      ],
      "metadata": {
        "id": "Udu4DNuFKN5V"
      },
      "execution_count": null,
      "outputs": []
    },
    {
      "cell_type": "code",
      "source": [
        "# What are the unique scalar-to-scalar filters?\n",
        "pfilters = get_unique_scalar_filters(pfilter_matrix)\n",
        "for ff in pfilters:\n",
        "    print(ff)"
      ],
      "metadata": {
        "id": "TGAUnX5eKsqN"
      },
      "execution_count": null,
      "outputs": []
    },
    {
      "cell_type": "code",
      "source": [
        "# Visualize (badly) the pseudoscalar filters.\n",
        "for i, ff in enumerate(pfilters):\n",
        "    plot_scalar_filter(ff, \"pseudoscalar \" + str(i))"
      ],
      "metadata": {
        "id": "XPVqTycLKv9G"
      },
      "execution_count": null,
      "outputs": []
    },
    {
      "cell_type": "code",
      "source": [
        "# Make Dn x Dn x ... independent scalar-to-vector filters\n",
        "allvfilters = []\n",
        "for kk in keys:\n",
        "    for i in range(D):\n",
        "        thisfilter = make_zero_vector_filter()\n",
        "        thisfilter[kk][i] = 1\n",
        "        allvfilters.append(thisfilter)"
      ],
      "metadata": {
        "id": "yfNYOF9DoaKz"
      },
      "execution_count": null,
      "outputs": []
    },
    {
      "cell_type": "code",
      "source": [
        "# Sum all the group-element-tranformed scalar-to-vector filters and make a matrix of them\n",
        "n = len(allvfilters)\n",
        "vfilter_matrix = np.zeros((n, n)).astype(int)\n",
        "for i, f1 in enumerate(allvfilters):\n",
        "    ff = make_zero_vector_filter()\n",
        "    for gg in group_operators:\n",
        "        ff = add(ff, rotate_vector(f1, gg))\n",
        "    vfilter_matrix[i] = unpack_vector_filter(ff).flatten()"
      ],
      "metadata": {
        "id": "pfh9XBhXrkgl"
      },
      "execution_count": null,
      "outputs": []
    },
    {
      "cell_type": "code",
      "source": [
        "# What are the unique scalar-to-vector filters?\n",
        "def get_unique_vector_filters(matrix, parity):\n",
        "    u, s, v = np.linalg.svd(matrix)\n",
        "    TINY = 1.e-5\n",
        "    sbig = s > TINY\n",
        "    if not np.any(sbig):\n",
        "        return []\n",
        "    nbig = np.sum(sbig).astype(int)\n",
        "    vecs = v[sbig].reshape((nbig, filter_size ** D, D))\n",
        "    # normalize so the vectors are (on average) unit vectors\n",
        "    norms = np.sqrt(np.sum(vecs * vecs, axis=2))\n",
        "    norms[norms < TINY] = 1.0\n",
        "    vecs = vecs / norms[:, :, None]\n",
        "    # make sure the divergences or curls are positive\n",
        "    if parity > 0:\n",
        "        for i in range(nbig):\n",
        "            if np.sum(vecs[i] * pixels) < 0:\n",
        "                vecs[i] *= -1\n",
        "    if D == 2 and parity < 0:\n",
        "        rpixels = np.zeros_like(pixels)\n",
        "        rpixels[:, 0], rpixels[:, 1] = -1. * pixels[:, 1], pixels[:, 0]\n",
        "        for i in range(nbig):\n",
        "            if np.sum(vecs[i] * rpixels) < 0:\n",
        "                vecs[i] *= -1\n",
        "    # make sure zeros are exactly zero\n",
        "    vecs[np.abs(vecs) < TINY] = 0.0\n",
        "    return [pack_vector_filter(vv) for vv in vecs]\n",
        "\n",
        "vfilters = get_unique_vector_filters(vfilter_matrix, 1)\n",
        "for ff in vfilters:\n",
        "    print(ff)"
      ],
      "metadata": {
        "id": "KIdDZFntthWo"
      },
      "execution_count": null,
      "outputs": []
    },
    {
      "cell_type": "code",
      "source": [
        "# Visualize the vector filters.\n",
        "\n",
        "def plot_vectors(xs, ys, ws):\n",
        "    plot_boxes(xs, ys)\n",
        "    fill_boxes(xs, ys, np.sum(np.abs(ws), axis=-1))\n",
        "    for x, y, w in zip(xs, ys, ws):\n",
        "        if np.sum(w * w) > TINY:\n",
        "            plt.arrow(x - 0.3 * w[0], y - 0.3 * w[1],\n",
        "                      0.6 * w[0], 0.6 * w[1],\n",
        "                      length_includes_head=True, head_width=0.1, color=\"k\")\n",
        "\n",
        "def plot_vector_filter(filter, title):\n",
        "    if D not in [2, 3]:\n",
        "        print(\"plot_vector_filter(): Only works for D in [2, 3].\")\n",
        "        return\n",
        "    setup_plot()\n",
        "    xs, ys, zs = np.zeros(filter_size ** D), np.zeros(filter_size ** D), np.zeros(filter_size ** D)\n",
        "    ws = np.zeros((filter_size ** D, D))\n",
        "    if D == 2:\n",
        "        for i, kk in enumerate(keys):\n",
        "            xs[i], ys[i] = unhash(kk)\n",
        "            ws[i] = filter[kk]\n",
        "        plot_vectors(xs, ys, ws)\n",
        "    if D == 3:\n",
        "        for i, kk in enumerate(keys):\n",
        "            xs[i], ys[i], zs[i] = unhash(kk)\n",
        "            ws[i] = filter[kk]\n",
        "        plot_vectors(xs + XOFF * zs, ys + YOFF * zs, ws)\n",
        "    finish_plot(title)\n",
        "\n",
        "for i, ff in enumerate(vfilters):\n",
        "    plot_vector_filter(ff, \"vector \" + str(i))"
      ],
      "metadata": {
        "id": "pYXICGwCHFTi"
      },
      "execution_count": null,
      "outputs": []
    },
    {
      "cell_type": "code",
      "source": [
        "# Sum all the group-element-tranformed scalar-to-pseudovector filters and make a matrix of them\n",
        "n = len(allvfilters)\n",
        "pvfilter_matrix = np.zeros((n, n)).astype(int)\n",
        "for i, f1 in enumerate(allvfilters):\n",
        "    ff = make_zero_vector_filter()\n",
        "    for gg in group_operators:\n",
        "        ff = add(ff, rotate_pseudovector(f1, gg))\n",
        "    pvfilter_matrix[i] = unpack_vector_filter(ff).flatten()"
      ],
      "metadata": {
        "id": "TC5l_2-juOLJ"
      },
      "execution_count": null,
      "outputs": []
    },
    {
      "cell_type": "code",
      "source": [
        "# What are the unique scalar-to-pseudovector filters?\n",
        "pvfilters = get_unique_vector_filters(pvfilter_matrix, -1)\n",
        "for ff in pvfilters:\n",
        "    print(ff)"
      ],
      "metadata": {
        "id": "hCTAXD0nDukV"
      },
      "execution_count": null,
      "outputs": []
    },
    {
      "cell_type": "code",
      "source": [
        "# Visualize (badly) the pseudovector filters.\n",
        "for i, ff in enumerate(pvfilters):\n",
        "    plot_vector_filter(ff, \"pseudovector \" + str(i))"
      ],
      "metadata": {
        "id": "G3F8_xbTD08H"
      },
      "execution_count": null,
      "outputs": []
    },
    {
      "cell_type": "code",
      "source": [
        ""
      ],
      "metadata": {
        "id": "7BiFan6gIxL8"
      },
      "execution_count": null,
      "outputs": []
    }
  ]
}