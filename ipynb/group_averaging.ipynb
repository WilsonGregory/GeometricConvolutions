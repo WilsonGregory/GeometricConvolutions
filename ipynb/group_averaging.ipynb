{
  "cells": [
    {
      "cell_type": "markdown",
      "metadata": {
        "id": "view-in-github",
        "colab_type": "text"
      },
      "source": [
        "<a href=\"https://colab.research.google.com/github/davidwhogg/EmuCosmoSim/blob/main/ipynb/group_averaging.ipynb\" target=\"_parent\"><img src=\"https://colab.research.google.com/assets/colab-badge.svg\" alt=\"Open In Colab\"/></a>"
      ]
    },
    {
      "cell_type": "markdown",
      "metadata": {
        "id": "YGB_OA6Cvlah"
      },
      "source": [
        "# Finding equivariant convolution operators by group averaging\n",
        "\n",
        "## Authors:\n",
        "- **David W. Hogg** (NYU) (Flatiron)\n",
        "- **Soledad Villar** (JHU)\n",
        "\n",
        "## License\n",
        "Copyright 2022 the authors. All rights reserved *for now*.\n",
        "\n",
        "## To-do\n",
        "- Implement a `geometric_image` class.\n",
        "- Within the `geometric_image` class define a `convolve` function that takes a `geometric_filter`.\n",
        "- Implement div and curl of filters so we can orient them.\n",
        "\n",
        "## Bugs:\n",
        "- Haven't figured out yet how to visualize the 2-tensor filters; maybe plot eigenvalues and eigenvectors?\n",
        "- The group operators should be found by recursion; this ought to be more efficient.\n",
        "- Fix 3-d plotting so it does a real projection (not just a set of incomprehensible hacks).\n"
      ]
    },
    {
      "cell_type": "code",
      "execution_count": 1,
      "metadata": {
        "id": "Q52E4gJ8UfGG"
      },
      "outputs": [],
      "source": [
        "import numpy as np\n",
        "import pylab as plt\n",
        "import itertools as it\n",
        "import scipy.signal as sig"
      ]
    },
    {
      "cell_type": "code",
      "execution_count": 2,
      "metadata": {
        "id": "yP10B3wza7FO"
      },
      "outputs": [],
      "source": [
        "# Set integers:\n",
        "D = 2 # D-dimensional image (must be 2 or 3 for plotting to work)\n",
        "M = 3 # must be an odd integer"
      ]
    },
    {
      "cell_type": "markdown",
      "source": [
        "# Get the group ready and test it"
      ],
      "metadata": {
        "id": "kXuKZ19NscF2"
      }
    },
    {
      "cell_type": "code",
      "execution_count": 3,
      "metadata": {
        "id": "Fvi8Vw0Z6mFh",
        "colab": {
          "base_uri": "https://localhost:8080/"
        },
        "outputId": "3c615779-2cf3-4828-a05c-d005b9a21fbd"
      },
      "outputs": [
        {
          "output_type": "stream",
          "name": "stdout",
          "text": [
            "[[-1  0]\n",
            " [ 0  1]]\n",
            "[[ 0 -1]\n",
            " [ 1  0]]\n"
          ]
        }
      ],
      "source": [
        "# Make all possible group generators\n",
        "\n",
        "# Make the flip operator\n",
        "foo = np.ones(D).astype(int)\n",
        "foo[0] = -1\n",
        "gg = np.diag(foo).astype(int)\n",
        "generators = [gg, ]\n",
        "\n",
        "# Make the 90-degree rotation operators\n",
        "for i in range(D):\n",
        "    for j in range(i + 1, D):\n",
        "        gg = np.eye(D).astype(int)\n",
        "        gg[i, i] = 0\n",
        "        gg[j, j] = 0\n",
        "        gg[i, j] = -1\n",
        "        gg[j, i] = 1\n",
        "        generators.append(gg)\n",
        "generators = np.array(generators)\n",
        "\n",
        "# Look at them\n",
        "for gg in generators:\n",
        "    print(gg)"
      ]
    },
    {
      "cell_type": "code",
      "execution_count": 4,
      "metadata": {
        "id": "RXUqQpE8VlAy",
        "colab": {
          "base_uri": "https://localhost:8080/"
        },
        "outputId": "f2caaeed-b98d-41fd-d5f5-fc54ffee6b56"
      },
      "outputs": [
        {
          "output_type": "stream",
          "name": "stdout",
          "text": [
            "I found 8 group operators; here are their determinants:\n",
            "[[-1  0]\n",
            " [ 0 -1]] determinant: 1\n",
            "[[-1  0]\n",
            " [ 0  1]] determinant: -1\n",
            "[[ 0 -1]\n",
            " [-1  0]] determinant: -1\n",
            "[[ 0 -1]\n",
            " [ 1  0]] determinant: 1\n",
            "[[ 0  1]\n",
            " [-1  0]] determinant: 1\n",
            "[[0 1]\n",
            " [1 0]] determinant: -1\n",
            "[[ 1  0]\n",
            " [ 0 -1]] determinant: -1\n",
            "[[1 0]\n",
            " [0 1]] determinant: 1\n"
          ]
        }
      ],
      "source": [
        "# Make all possible group operators.\n",
        "# This code is very wasteful; there is a better way with recursion.\n",
        "\n",
        "def make_all_operators(generators):\n",
        "    operators = np.array([np.eye(D).astype(int), ])\n",
        "    foo = 0\n",
        "    while len(operators) != foo:\n",
        "        foo = len(operators)\n",
        "        operators = make_new_operators(operators, generators)\n",
        "    return(operators)\n",
        "\n",
        "def make_new_operators(operators, generators):\n",
        "    for op in operators:\n",
        "        for gg in generators:\n",
        "            op2 = (gg @ op).astype(int)\n",
        "            operators = np.unique(np.append(operators, op2[None, :, :], axis=0), axis=0)\n",
        "    return operators\n",
        "\n",
        "group_operators = make_all_operators(generators)\n",
        "print(\"I found\", len(group_operators), \"group operators; here are their determinants:\")\n",
        "for gg in group_operators:\n",
        "    print(gg, \"determinant:\", np.linalg.slogdet(gg)[0].astype(int))"
      ]
    },
    {
      "cell_type": "code",
      "execution_count": 5,
      "metadata": {
        "id": "n960Qo6yY2p5",
        "colab": {
          "base_uri": "https://localhost:8080/"
        },
        "outputId": "d24631bf-7bd7-4476-aaff-af48b9864a98"
      },
      "outputs": [
        {
          "output_type": "stream",
          "name": "stdout",
          "text": [
            "[[-1  0]\n",
            " [ 0 -1]] True\n",
            "[[-1  0]\n",
            " [ 0  1]] True\n",
            "[[ 0 -1]\n",
            " [-1  0]] True\n",
            "[[ 0 -1]\n",
            " [ 1  0]] True\n",
            "[[ 0  1]\n",
            " [-1  0]] True\n",
            "[[0 1]\n",
            " [1 0]] True\n",
            "[[ 1  0]\n",
            " [ 0 -1]] True\n",
            "[[1 0]\n",
            " [0 1]] True\n"
          ]
        }
      ],
      "source": [
        "# Check that the list of group operators is closed\n",
        "for gg in group_operators:\n",
        "    for gg2 in group_operators:\n",
        "        assert ((gg @ gg2).astype(int) in group_operators)\n",
        "    print(gg, True)"
      ]
    },
    {
      "cell_type": "code",
      "execution_count": 6,
      "metadata": {
        "id": "8uC_pQ6kLqtR",
        "colab": {
          "base_uri": "https://localhost:8080/"
        },
        "outputId": "6735d104-7388-4b70-9509-a0eb1fdf98ec"
      },
      "outputs": [
        {
          "output_type": "stream",
          "name": "stdout",
          "text": [
            "[[-1  0]\n",
            " [ 0 -1]] True\n",
            "[[-1  0]\n",
            " [ 0  1]] True\n",
            "[[ 0 -1]\n",
            " [-1  0]] True\n",
            "[[ 0 -1]\n",
            " [ 1  0]] True\n",
            "[[ 0  1]\n",
            " [-1  0]] True\n",
            "[[0 1]\n",
            " [1 0]] True\n",
            "[[ 1  0]\n",
            " [ 0 -1]] True\n",
            "[[1 0]\n",
            " [0 1]] True\n"
          ]
        }
      ],
      "source": [
        "# Check that gg.T is gg.inv for all gg in group?\n",
        "for gg in group_operators:\n",
        "    print(gg, np.allclose(gg @ gg.T, np.eye(D)))"
      ]
    },
    {
      "cell_type": "markdown",
      "source": [
        "# Define the geometric objects and geometric filters\n",
        "- And visualize them."
      ],
      "metadata": {
        "id": "ZYTHFpILsjnH"
      }
    },
    {
      "cell_type": "code",
      "source": [
        "class ktensor:\n",
        "\n",
        "    def __init__(self, data, parity, D=D):\n",
        "        self.D = D\n",
        "        assert self.D > 1, \\\n",
        "        \"ktensor: geometry makes no sense if D<2.\"\n",
        "        self.parity = parity\n",
        "        assert np.abs(self.parity) == 1, \\\n",
        "        \"ktensor: parity must be 1 or -1.\"\n",
        "        if len(np.atleast_1d(data)) == 1:\n",
        "            self.data = data\n",
        "            self.k = 0\n",
        "        else:\n",
        "            self.data = np.array(data)\n",
        "            self.k = len(data.shape)\n",
        "            assert np.all(np.array(data.shape) == D), \\\n",
        "            \"ktensor: shape must be (D, D, D, ...).\"\n",
        "\n",
        "    def __getitem__(self, key):\n",
        "        return self.data[key]\n",
        "\n",
        "    def __add__(self, other):\n",
        "        assert self.k == other.k, \\\n",
        "        \"ktensor: can't add objects of different k\"\n",
        "        assert self.parity == other.parity, \\\n",
        "        \"ktensor: can't add objects of different parity\"\n",
        "        return ktensor(self.data + other.data, self.parity)\n",
        "\n",
        "    def __mul__(self, other):\n",
        "        if self.k == 0 or other.k == 0:\n",
        "            return ktensor(self.data * other.data,\n",
        "                           self.parity * other.parity)\n",
        "        return ktensor(np.outer(self.data, other.data),\n",
        "                       self.parity * other.parity)\n",
        "\n",
        "    def __str__(self):\n",
        "        return \"<k-tensor object in D={} with k={} and parity={}>\".format(\n",
        "            self.D, self.k, self.parity)\n",
        "\n",
        "    def norm(self):\n",
        "        if self.k == 0:\n",
        "            return np.abs(self.data)\n",
        "        return np.linalg.norm(self.data, ord=2)\n",
        "\n",
        "    def times_group_element(self, gg):\n",
        "        # BUG: THIS IS UNTESTED.\n",
        "        # BUG: This is incomprehensible.\n",
        "        assert self.k < 14\n",
        "        assert gg.shape == (D, D)\n",
        "        sign, logdet = np.linalg.slogdet(gg)\n",
        "        assert logdet == 0.\n",
        "        if self.k == 0:\n",
        "            newdata = 1. * self.data\n",
        "        else:\n",
        "            firstletters  = \"abcdefghijklm\"\n",
        "            secondletters = \"nopqrstuvwxyz\"\n",
        "            einstr = \"\".join([firstletters[i] for i in range(self.k)]) +\",\" + \\\n",
        "            \",\".join([secondletters[i] + firstletters[i] for i in range(self.k)])\n",
        "            foo = (self.data, ) + self.k * (gg, )\n",
        "            newdata = np.einsum(einstr, *foo)\n",
        "        if self.parity < 0:\n",
        "            newdata *= sign\n",
        "        return ktensor(newdata, self.parity)"
      ],
      "metadata": {
        "id": "bFYRWJgntsPE"
      },
      "execution_count": 7,
      "outputs": []
    },
    {
      "cell_type": "code",
      "source": [
        "class geometric_filter:\n",
        "\n",
        "    def hash(self, pixel):\n",
        "        return tuple(pixel.astype(int))\n",
        "\n",
        "    def make_pixels_and_keys(self):\n",
        "        foo = range(-self.m, self.m + 1)\n",
        "        self._pixels = np.array([pp for pp in it.product(foo, repeat=D)]).astype(int)\n",
        "        self._keys = [self.hash(pp) for pp in self._pixels]\n",
        "        return\n",
        "\n",
        "    def __init__(self, data, parity, D=D):\n",
        "        self.D = D\n",
        "        self.M = np.round(len(data) ** (1. / D)).astype(int)\n",
        "        assert len(data) == self.M ** self.D, \\\n",
        "        \"geometric_filter: data doesn't seem to be the right length?\"\n",
        "        self.m = (self.M - 1) // 2\n",
        "        assert self.M == 2 * self.m + 1, \\\n",
        "        \"geometric_filter: M needs to be odd.\"\n",
        "        self.make_pixels_and_keys()\n",
        "        self.parity = parity\n",
        "        self.data = {kk: ktensor(ff, self.parity, self.D)\n",
        "                     for kk, ff in zip(self.keys(), data)}\n",
        "        self.k = self[self.keys()[0]].k\n",
        "        return\n",
        "\n",
        "    def copy(self):\n",
        "        return geometric_filter(self.unpack(), self.parity, self.D)\n",
        "\n",
        "    def __getitem__(self, key):\n",
        "        return self.data[key]\n",
        "\n",
        "    def keys(self):\n",
        "        return self._keys\n",
        "\n",
        "    def pixels(self):\n",
        "        return self._pixels\n",
        "\n",
        "    def __add__(self, other):\n",
        "        assert self.D == other.D\n",
        "        assert self.M == other.M\n",
        "        newfilter = self.copy()\n",
        "        for kk in self.keys():\n",
        "            newfilter.data[kk] = self[kk] + other[kk]\n",
        "        return newfilter\n",
        "\n",
        "    def __str__(self):\n",
        "        return \"<geometric filter object in D={} with M={}, k={}, and parity={}>\".format(\n",
        "            self.D, self.M, self.k, self.parity)\n",
        "\n",
        "    def times_group_element(self, gg):\n",
        "        newfilter = self.copy()\n",
        "        for pp, kk in zip(self.pixels(), self.keys()):\n",
        "            newfilter.data[kk] = self[self.hash(gg.T @ pp)].times_group_element(gg)\n",
        "        return newfilter\n",
        "\n",
        "    def unpack(self):\n",
        "        return np.array([self[kk].data for kk in self.keys()])\n",
        "\n",
        "    def bigness(self):\n",
        "        numerator, denominator = 0., 0.\n",
        "        for pp, kk in zip(self.pixels(), self.keys()):\n",
        "            numerator += np.linalg.norm(pp * self[kk].norm(), ord=2)\n",
        "            denominator += self[kk].norm()\n",
        "        return numerator / denominator\n"
      ],
      "metadata": {
        "id": "2z4tzfDa61KD"
      },
      "execution_count": 8,
      "outputs": []
    },
    {
      "cell_type": "code",
      "execution_count": 31,
      "metadata": {
        "id": "fxMRi3VjD_zN"
      },
      "outputs": [],
      "source": [
        "# Visualize (badly) a scalar filter.\n",
        "\n",
        "FIGSIZE = (4, 3)\n",
        "XOFF, YOFF = 0.15, -0.1\n",
        "TINY = 1.e-5\n",
        "\n",
        "def setup_plot():\n",
        "    fig = plt.figure(figsize=FIGSIZE)\n",
        "\n",
        "def finish_plot(title, pixels):\n",
        "    plt.title(title)\n",
        "    if D == 2:\n",
        "        plt.xlim(np.min(pixels)-0.5, np.max(pixels)+0.5)\n",
        "        plt.ylim(np.min(pixels)-0.5, np.max(pixels)+0.5)\n",
        "    if D == 3:\n",
        "        plt.xlim(np.min(pixels)-0.75, np.max(pixels)+0.75)\n",
        "        plt.ylim(np.min(pixels)-0.75, np.max(pixels)+0.75)\n",
        "    plt.gca().set_aspect(\"equal\")\n",
        "    plt.gca().set_xticks([])\n",
        "    plt.gca().set_yticks([])\n",
        "\n",
        "def plot_boxes(xs, ys):\n",
        "    for x, y in zip(xs, ys):\n",
        "        plt.plot([x-0.5, x-0.5, x+0.5, x+0.5, x-0.5],\n",
        "                 [y-0.5, y+0.5, y+0.5, y-0.5, y-0.5], \"k-\", lw=0.5)\n",
        "\n",
        "def fill_boxes(xs, ys, ws):\n",
        "    for x, y, w in zip(xs, ys, ws):\n",
        "        if np.abs(w) > TINY:\n",
        "            plt.fill_between([x - 0.5, x + 0.5], [y - 0.5, y - 0.5], [y + 0.5, y + 0.5],\n",
        "                             color=\"k\", alpha=0.1 * np.abs(w))\n",
        "\n",
        "def plot_scalars(xs, ys, ws, boxes=True, fill=True, symbols=True):\n",
        "    if boxes:\n",
        "        plot_boxes(xs, ys)\n",
        "    if fill:\n",
        "        fill_boxes(xs, ys, ws)\n",
        "    if symbols:\n",
        "        plt.scatter(xs[ws > TINY], ys[ws > TINY],\n",
        "                    marker=\"+\", c=\"k\", s=(1000/M)*ws[ws > TINY])\n",
        "        plt.scatter(xs[ws < TINY], ys[ws < TINY],\n",
        "                    marker=\"_\", c=\"k\", s=(-1000/M)*ws[ws < TINY])\n",
        "\n",
        "def plot_scalar_filter(filter, title):\n",
        "    assert filter.k == 0\n",
        "    if filter.D not in [2, 3]:\n",
        "        print(\"plot_scalar_filter(): Only works for D in [2, 3].\")\n",
        "        return\n",
        "    setup_plot()\n",
        "    MtotheD = filter.M ** filter.D\n",
        "    xs, ys, zs = np.zeros(MtotheD), np.zeros(MtotheD), np.zeros(MtotheD)\n",
        "    ws = np.zeros(MtotheD)\n",
        "    for i, (kk, pp) in enumerate(zip(filter.keys(), filter.pixels())):\n",
        "        ws[i] = filter[kk].data\n",
        "        if filter.D == 2:\n",
        "            xs[i], ys[i] = pp\n",
        "        elif filter.D == 3:\n",
        "            xs[i], ys[i] = pp[0] + XOFF * pp[2], pp[1] + XOFF * pp[2]\n",
        "    plot_scalars(xs, ys, ws)\n",
        "    finish_plot(title, filter.pixels())"
      ]
    },
    {
      "cell_type": "code",
      "source": [
        "foo = geometric_filter(np.random.normal(size=3 ** D), 1)\n",
        "plot_scalar_filter(foo, \"foo\")\n",
        "for i, gg in enumerate(group_operators[:4]):\n",
        "    plot_scalar_filter(foo.times_group_element(gg), \"$g_{}\\cdot$foo\".format(i))"
      ],
      "metadata": {
        "colab": {
          "base_uri": "https://localhost:8080/",
          "height": 1000
        },
        "id": "QmQQUQoGnC2u",
        "outputId": "53e7259a-8bfd-48db-aee5-418e19211cc2"
      },
      "execution_count": 10,
      "outputs": [
        {
          "output_type": "display_data",
          "data": {
            "text/plain": [
              "<Figure size 288x216 with 1 Axes>"
            ],
            "image/png": "[encoded data removed]"
          },
          "metadata": {}
        },
        {
          "output_type": "display_data",
          "data": {
            "text/plain": [
              "<Figure size 288x216 with 1 Axes>"
            ],
            "image/png": "[encoded data removed]"
          },
          "metadata": {}
        },
        {
          "output_type": "display_data",
          "data": {
            "text/plain": [
              "<Figure size 288x216 with 1 Axes>"
            ],
            "image/png": "[encoded data removed]"
          },
          "metadata": {}
        },
        {
          "output_type": "display_data",
          "data": {
            "text/plain": [
              "<Figure size 288x216 with 1 Axes>"
            ],
            "image/png": "[encoded data removed]"
          },
          "metadata": {}
        },
        {
          "output_type": "display_data",
          "data": {
            "text/plain": [
              "<Figure size 288x216 with 1 Axes>"
            ],
            "image/png": "[encoded data removed]"
          },
          "metadata": {}
        }
      ]
    },
    {
      "cell_type": "code",
      "execution_count": 11,
      "metadata": {
        "id": "pYXICGwCHFTi"
      },
      "outputs": [],
      "source": [
        "# Visualize the vector filters.\n",
        "\n",
        "def plot_vectors(xs, ys, ws, boxes=True, fill=True):\n",
        "    if boxes: plot_boxes(xs, ys)\n",
        "    if fill: fill_boxes(xs, ys, np.sum(np.abs(ws), axis=-1))\n",
        "    for x, y, w in zip(xs, ys, ws):\n",
        "        if np.sum(w * w) > TINY:\n",
        "            plt.arrow(x - 0.3 * w[0], y - 0.3 * w[1],\n",
        "                      0.6 * w[0], 0.6 * w[1],\n",
        "                      length_includes_head=True, head_width=0.1, color=\"k\")\n",
        "\n",
        "def plot_vector_filter(filter, title):\n",
        "    assert filter.k == 1\n",
        "    if filter.D not in [2, 3]:\n",
        "        print(\"plot_vector_filter(): Only works for D in [2, 3].\")\n",
        "        return\n",
        "    setup_plot()\n",
        "    MtotheD = filter.M ** filter.D\n",
        "    xs, ys, zs = np.zeros(MtotheD), np.zeros(MtotheD), np.zeros(MtotheD)\n",
        "    ws = np.zeros((MtotheD, filter.D))\n",
        "    for i, (kk, pp) in enumerate(zip(filter.keys(), filter.pixels())):\n",
        "        ws[i] = filter[kk].data\n",
        "        if filter.D == 2:\n",
        "            xs[i], ys[i] = pp\n",
        "        elif filter.D == 3:\n",
        "            xs[i], ys[i] = pp[0] + XOFF * pp[2], pp[1] + YOFF * pp[2]\n",
        "    plot_vectors(xs, ys, ws)\n",
        "    finish_plot(title, filter.pixels())"
      ]
    },
    {
      "cell_type": "code",
      "source": [
        "foo = geometric_filter(0.5 * np.random.normal(size=(3 ** D, D)), 1)\n",
        "plot_vector_filter(foo, \"foo\")\n",
        "for i, gg in enumerate(group_operators[:4]):\n",
        "    plot_vector_filter(foo.times_group_element(gg), \"$g_{}\\cdot$foo\".format(i))"
      ],
      "metadata": {
        "colab": {
          "base_uri": "https://localhost:8080/",
          "height": 1000
        },
        "id": "U5o7keM-sTY4",
        "outputId": "8b2e8f14-3a91-4c93-d4a5-ffe1ea8a3fd0"
      },
      "execution_count": 12,
      "outputs": [
        {
          "output_type": "display_data",
          "data": {
            "text/plain": [
              "<Figure size 288x216 with 1 Axes>"
            ],
            "image/png": "[encoded data removed]"
          },
          "metadata": {}
        },
        {
          "output_type": "display_data",
          "data": {
            "text/plain": [
              "<Figure size 288x216 with 1 Axes>"
            ],
            "image/png": "[encoded data removed]"
          },
          "metadata": {}
        },
        {
          "output_type": "display_data",
          "data": {
            "text/plain": [
              "<Figure size 288x216 with 1 Axes>"
            ],
            "image/png": "[encoded data removed]"
          },
          "metadata": {}
        },
        {
          "output_type": "display_data",
          "data": {
            "text/plain": [
              "<Figure size 288x216 with 1 Axes>"
            ],
            "image/png": "[encoded data removed]"
          },
          "metadata": {}
        },
        {
          "output_type": "display_data",
          "data": {
            "text/plain": [
              "<Figure size 288x216 with 1 Axes>"
            ],
            "image/png": "[encoded data removed]"
          },
          "metadata": {}
        }
      ]
    },
    {
      "cell_type": "markdown",
      "source": [
        "# Now start the process of making the invariant filters"
      ],
      "metadata": {
        "id": "3z3bM0xSm_ls"
      }
    },
    {
      "cell_type": "code",
      "execution_count": 13,
      "metadata": {
        "id": "kSy3X7eJjsFX"
      },
      "outputs": [],
      "source": [
        "def make_zero_filter(k, parity):\n",
        "    data = np.zeros((M ** D, ) + k * (D, ))\n",
        "    return geometric_filter(data, parity, D)"
      ]
    },
    {
      "cell_type": "code",
      "execution_count": 14,
      "metadata": {
        "id": "xPOirFX7na-w"
      },
      "outputs": [],
      "source": [
        "# What are the unique scalar filters?\n",
        "def get_unique_filters(k, parity):\n",
        "\n",
        "    # make the seed filters\n",
        "    tmp = make_zero_filter(k, parity)\n",
        "    M, D, keys, shape = tmp.M, tmp.D, tmp.keys(), tmp.unpack().shape\n",
        "    allfilters = []\n",
        "    if k == 0:\n",
        "        for kk in keys:\n",
        "            thisfilter = make_zero_filter(k, parity)\n",
        "            thisfilter.data[kk].data = 1\n",
        "            allfilters.append(thisfilter)\n",
        "    else:\n",
        "        for kk in keys:\n",
        "            thisfilter = make_zero_filter(k, parity)\n",
        "            for indices in it.product(range(D), repeat=k):\n",
        "                thisfilter.data[kk].data[indices] = 1\n",
        "                allfilters.append(thisfilter)\n",
        "\n",
        "    # do the group averaging\n",
        "    bigshape = (len(allfilters), ) + thisfilter.unpack().flatten().shape\n",
        "    filter_matrix = np.zeros(bigshape)\n",
        "    for i, f1 in enumerate(allfilters):\n",
        "        ff = make_zero_filter(k, parity)\n",
        "        for gg in group_operators:\n",
        "            ff = ff + f1.times_group_element(gg)\n",
        "        filter_matrix[i] = ff.unpack().flatten()\n",
        "\n",
        "    # do the SVD\n",
        "    u, s, v = np.linalg.svd(filter_matrix)\n",
        "    TINY = 1.e-5\n",
        "    sbig = s > TINY\n",
        "    if not np.any(sbig):\n",
        "        return []\n",
        "\n",
        "    # normalize the amplitudes so they max out at +/- 1.\n",
        "    amps = v[sbig] / np.max(np.abs(v[sbig]), axis=1)[:, None]\n",
        "    # make sure the amps are positive, generally\n",
        "    for i in range(len(amps)):\n",
        "        if np.sum(amps[i]) < 0:\n",
        "            amps[i] *= -1\n",
        "    # make sure that the zeros are zeros.\n",
        "    amps[np.abs(amps) < TINY] = 0.\n",
        "\n",
        "    # order them\n",
        "    filters = [geometric_filter(aa.reshape(shape), parity) for aa in amps]\n",
        "    norms = [ff.bigness() for ff in filters]\n",
        "    I = np.argsort(norms)\n",
        "    filters = [filters[i] for i in I]\n",
        "    return filters"
      ]
    },
    {
      "cell_type": "code",
      "source": [
        "scalar_filters = get_unique_filters(0, 1)\n",
        "for i, ff in enumerate(scalar_filters):\n",
        "    plot_scalar_filter(ff, \"scalar {}\".format(i))"
      ],
      "metadata": {
        "colab": {
          "base_uri": "https://localhost:8080/",
          "height": 605
        },
        "id": "VE4_gBvJTslZ",
        "outputId": "ac3da556-b965-40ef-e708-eb521b88eccf"
      },
      "execution_count": 15,
      "outputs": [
        {
          "output_type": "display_data",
          "data": {
            "text/plain": [
              "<Figure size 288x216 with 1 Axes>"
            ],
            "image/png": "[encoded data removed]"
          },
          "metadata": {}
        },
        {
          "output_type": "display_data",
          "data": {
            "text/plain": [
              "<Figure size 288x216 with 1 Axes>"
            ],
            "image/png": "[encoded data removed]"
          },
          "metadata": {}
        },
        {
          "output_type": "display_data",
          "data": {
            "text/plain": [
              "<Figure size 288x216 with 1 Axes>"
            ],
            "image/png": "[encoded data removed]"
          },
          "metadata": {}
        }
      ]
    },
    {
      "cell_type": "code",
      "source": [
        "pseudoscalar_filters = get_unique_filters(0, -1)\n",
        "for i, ff in enumerate(pseudoscalar_filters):\n",
        "    plot_scalar_filter(ff, \"pseudoscalar {}\".format(i))"
      ],
      "metadata": {
        "id": "a7o2odmIWwi2"
      },
      "execution_count": 16,
      "outputs": []
    },
    {
      "cell_type": "code",
      "source": [
        "vector_filters = get_unique_filters(1, 1)\n",
        "for i, ff in enumerate(vector_filters):\n",
        "    plot_vector_filter(ff, \"vector {}\".format(i))"
      ],
      "metadata": {
        "colab": {
          "base_uri": "https://localhost:8080/",
          "height": 409
        },
        "id": "5exjnu7eAHdc",
        "outputId": "c316a192-f9bf-4120-df46-fe0cd81fdb88"
      },
      "execution_count": 17,
      "outputs": [
        {
          "output_type": "display_data",
          "data": {
            "text/plain": [
              "<Figure size 288x216 with 1 Axes>"
            ],
            "image/png": "[encoded data removed]"
          },
          "metadata": {}
        },
        {
          "output_type": "display_data",
          "data": {
            "text/plain": [
              "<Figure size 288x216 with 1 Axes>"
            ],
            "image/png": "[encoded data removed]"
          },
          "metadata": {}
        }
      ]
    },
    {
      "cell_type": "code",
      "execution_count": 18,
      "metadata": {
        "id": "TC5l_2-juOLJ",
        "colab": {
          "base_uri": "https://localhost:8080/",
          "height": 409
        },
        "outputId": "e7ccb73a-ff8a-479a-d7c6-6b38ef9f2465"
      },
      "outputs": [
        {
          "output_type": "display_data",
          "data": {
            "text/plain": [
              "<Figure size 288x216 with 1 Axes>"
            ],
            "image/png": "[encoded data removed]"
          },
          "metadata": {}
        },
        {
          "output_type": "display_data",
          "data": {
            "text/plain": [
              "<Figure size 288x216 with 1 Axes>"
            ],
            "image/png": "[encoded data removed]"
          },
          "metadata": {}
        }
      ],
      "source": [
        "pseudovector_filters = get_unique_filters(1, -1)\n",
        "for i, ff in enumerate(pseudovector_filters):\n",
        "    plot_vector_filter(ff, \"pseudovector {}\".format(i))"
      ]
    },
    {
      "cell_type": "code",
      "source": [
        "tt_filters = get_unique_filters(2, 1)\n",
        "for ff in tt_filters:\n",
        "    print(ff)"
      ],
      "metadata": {
        "colab": {
          "base_uri": "https://localhost:8080/"
        },
        "id": "XnocvKusCelq",
        "outputId": "f29ee03a-9ece-4d4d-977e-faec58854bd7"
      },
      "execution_count": 19,
      "outputs": [
        {
          "output_type": "stream",
          "name": "stdout",
          "text": [
            "<geometric filter object in D=2 with M=3, k=2, and parity=1>\n",
            "<geometric filter object in D=2 with M=3, k=2, and parity=1>\n",
            "<geometric filter object in D=2 with M=3, k=2, and parity=1>\n",
            "<geometric filter object in D=2 with M=3, k=2, and parity=1>\n"
          ]
        }
      ]
    },
    {
      "cell_type": "code",
      "source": [
        "# Visualize the 2-tensor filters\n",
        "# HOGG TBD"
      ],
      "metadata": {
        "id": "j5LXiCaz2p5N"
      },
      "execution_count": 20,
      "outputs": []
    },
    {
      "cell_type": "code",
      "source": [
        "ptt_filters = get_unique_filters(2, -1)\n",
        "for ff in ptt_filters:\n",
        "    print(ff)"
      ],
      "metadata": {
        "colab": {
          "base_uri": "https://localhost:8080/"
        },
        "id": "vyAWXtg_1Tnv",
        "outputId": "1f885a0c-160c-4499-a34d-f8a18ccee01f"
      },
      "execution_count": 21,
      "outputs": [
        {
          "output_type": "stream",
          "name": "stdout",
          "text": [
            "<geometric filter object in D=2 with M=3, k=2, and parity=-1>\n"
          ]
        }
      ]
    },
    {
      "cell_type": "markdown",
      "metadata": {
        "id": "mPRDUz-_GdaR"
      },
      "source": [
        "# Define geometric images and convolutions"
      ]
    },
    {
      "cell_type": "code",
      "execution_count": 22,
      "metadata": {
        "id": "OFhj9ajnGiow",
        "colab": {
          "base_uri": "https://localhost:8080/"
        },
        "outputId": "dad28a96-725c-4a22-a107-cb04e4e96c95"
      },
      "outputs": [
        {
          "output_type": "stream",
          "name": "stdout",
          "text": [
            "Looking in indexes: https://pypi.org/simple, https://us-python.pkg.dev/colab-wheels/public/simple/\n",
            "Requirement already satisfied: finufft in /usr/local/lib/python3.7/dist-packages (2.1.0)\n",
            "Requirement already satisfied: numpy>=1.12.0 in /usr/local/lib/python3.7/dist-packages (from finufft) (1.21.6)\n"
          ]
        }
      ],
      "source": [
        "# We need this to make fake data\n",
        "!pip install finufft\n",
        "import finufft"
      ]
    },
    {
      "cell_type": "code",
      "source": [
        "class geometric_image:\n",
        "\n",
        "    def hash(self, pixel):\n",
        "        \"\"\"\n",
        "        ## Note:\n",
        "        - Deals with torus by modding (with `np.remainder()`).\n",
        "        \"\"\"\n",
        "        return tuple(np.remainder(pixel.astype(int), self.N))\n",
        "\n",
        "    def make_pixels_and_keys(self):\n",
        "        self._pixels = np.array([pp for pp in it.product(range(self.N),\n",
        "                                                         repeat=D)]).astype(int)\n",
        "        self._keys = [self.hash(pp) for pp in self._pixels]\n",
        "        return\n",
        "\n",
        "    def __init__(self, data, parity, D):\n",
        "        self.D = D\n",
        "        self.N = len(data)\n",
        "        assert data.shape[:D] == self.D * (self.N, ), \\\n",
        "        \"geometric_filter: data must be square.\"\n",
        "        self.make_pixels_and_keys()\n",
        "        self.parity = parity\n",
        "        self.data = {kk: ktensor(data[kk], self.parity, self.D)\n",
        "                     for kk in self.keys()}\n",
        "        self.k = self[self.keys()[0]].k\n",
        "        return\n",
        "\n",
        "    def copy(self):\n",
        "        return geometric_image(self.unpack(), self.parity, self.D)\n",
        "\n",
        "    def __getitem__(self, key):\n",
        "        return self.data[key]\n",
        "\n",
        "    def keys(self):\n",
        "        return self._keys\n",
        "\n",
        "    def pixels(self):\n",
        "        return self._pixels\n",
        "\n",
        "    def __add__(self, other):\n",
        "        assert self.D == other.D\n",
        "        assert self.N == other.N\n",
        "        assert self.k == other.k\n",
        "        assert self.parity == other.parity\n",
        "        newimage = self.copy()\n",
        "        for kk in self.keys():\n",
        "            newimage.data[kk] = self[kk] + other[kk]\n",
        "        return newimage\n",
        "\n",
        "    def __mul__(self, other):\n",
        "        assert self.D == other.D\n",
        "        assert self.N == other.N\n",
        "        newk, newparity = self.k * other.k, self.parity * other.parity\n",
        "        newshape = self.D * (self.N, ) + newk * (self.D, )\n",
        "        newimage = geometric_image(np.zeros(newshape), newparity, self.D)\n",
        "        assert newimage.D == self.D\n",
        "        assert newimage.N == self.N\n",
        "        assert newimage.k == newk\n",
        "        for kk in self.pixels():\n",
        "            newimage.data[kk] = self[kk] * other[kk] # handled by ktensor\n",
        "        return newimage\n",
        "\n",
        "    def __str__(self):\n",
        "        return \"<geometric image object in D={} with N={}, k={}, and parity={}>\".format(\n",
        "            self.D, self.N, self.k, self.parity)\n",
        "\n",
        "    def unpack(self):\n",
        "        shape = self.D * (self.N, ) + self.k * (self.D, )\n",
        "        package = np.zeros(shape)\n",
        "        for kk in self.keys():\n",
        "            package[kk] = self[kk].data\n",
        "        return package\n",
        "\n",
        "    def convolve_with(self, filter):\n",
        "        newk, newparity = self.k + filter.k, self.parity * filter.parity\n",
        "        shape = self.D * (self.N, ) + newk * (self.D, )\n",
        "        newimage = geometric_image(np.zeros(shape), newparity, self.D)\n",
        "        for kk, pp in zip(self.keys(), self.pixels()):\n",
        "            for dk, dp in zip(filter.keys(), filter.pixels()):\n",
        "                newimage.data[kk] += self[self.hash(pp + dp)] * filter[dk]\n",
        "        return newimage\n"
      ],
      "metadata": {
        "id": "DvqvD9Zi1m9S"
      },
      "execution_count": 23,
      "outputs": []
    },
    {
      "cell_type": "code",
      "execution_count": 38,
      "metadata": {
        "id": "8qqu5z7jGxnl",
        "colab": {
          "base_uri": "https://localhost:8080/"
        },
        "outputId": "cf0a65b0-53f7-4585-fbc8-e64754fb2c2d"
      },
      "outputs": [
        {
          "output_type": "stream",
          "name": "stdout",
          "text": [
            "(16, 16) (3, 3)\n",
            "<geometric image object in D=2 with N=16, k=0, and parity=1>\n"
          ]
        }
      ],
      "source": [
        "# make a sensible smooth scalar image on a 2-torus\n",
        "N = 16\n",
        "assert D == 2\n",
        "np.random.seed(42)\n",
        "image = np.random.normal(size=D * (N, ))\n",
        "foo = np.pi * np.arange(-1. + 1. / N, 1., 2. / N)\n",
        "ys, xs = np.meshgrid(foo, foo) # ys, xs or xs, ys??\n",
        "ft = finufft.nufft2d1(xs.flatten(), ys.flatten(), image.flatten().astype(complex), (3, 3))\n",
        "package = finufft.nufft2d2(xs.flatten(), ys.flatten(), ft).reshape(N, N).real\n",
        "package /= np.sqrt(np.mean(package ** 2))\n",
        "package -= np.min(package)\n",
        "print(package.shape, ft.shape)\n",
        "scalar_image = geometric_image(package, 1, D)\n",
        "print(scalar_image)"
      ]
    },
    {
      "cell_type": "code",
      "execution_count": 39,
      "metadata": {
        "id": "RsePU4USIk9O",
        "colab": {
          "base_uri": "https://localhost:8080/",
          "height": 299
        },
        "outputId": "4a8817b7-aed8-42da-f9e9-42cc5447d6bc"
      },
      "outputs": [
        {
          "output_type": "execute_result",
          "data": {
            "text/plain": [
              "Text(0.5, 1.0, 'scalar image')"
            ]
          },
          "metadata": {},
          "execution_count": 39
        },
        {
          "output_type": "display_data",
          "data": {
            "text/plain": [
              "<Figure size 432x288 with 1 Axes>"
            ],
            "image/png": "[encoded data removed]"
          },
          "metadata": {
            "needs_background": "light"
          }
        }
      ],
      "source": [
        "def plot_scalar_image(image):\n",
        "    plotdata = np.array([[pp[0], pp[1], image[kk].data]\n",
        "                         for kk, pp in zip(image.keys(), image.pixels())])\n",
        "    plt.gca().set_aspect(\"equal\", adjustable=\"box\")\n",
        "    plot_scalars(plotdata[:, 0], plotdata[:, 1], plotdata[:, 2],\n",
        "                 symbols=False)\n",
        "\n",
        "plot_scalar_image(scalar_image)\n",
        "plt.title(\"scalar image\")"
      ]
    },
    {
      "cell_type": "code",
      "execution_count": 40,
      "metadata": {
        "id": "SS-TFCl9JQEf",
        "colab": {
          "base_uri": "https://localhost:8080/"
        },
        "outputId": "d983ece8-c718-4180-d1c8-109a97e61209"
      },
      "outputs": [
        {
          "output_type": "stream",
          "name": "stdout",
          "text": [
            "(16, 16, 2) (3, 3)\n",
            "<geometric image object in D=2 with N=16, k=1, and parity=1>\n"
          ]
        }
      ],
      "source": [
        "# Make a sensible smooth vector image on a 2-torus\n",
        "np.random.seed(42)\n",
        "imagex = np.random.normal(size=(N, N))\n",
        "imagey = np.random.normal(size=(N, N))\n",
        "ftx = finufft.nufft2d1(xs.flatten(), ys.flatten(), imagex.flatten().astype(complex), (3, 3))\n",
        "fty = finufft.nufft2d1(xs.flatten(), ys.flatten(), imagey.flatten().astype(complex), (3, 3))\n",
        "package = np.zeros((N, N, D))\n",
        "package[:, :, 0] = finufft.nufft2d2(xs.flatten(), ys.flatten(), ftx).reshape(N, N).real\n",
        "package[:, :, 1] = finufft.nufft2d2(xs.flatten(), ys.flatten(), fty).reshape(N, N).real\n",
        "package /= np.sqrt(np.mean(package ** 2))\n",
        "print(package.shape, ftx.shape)\n",
        "vector_image = geometric_image(package, 1, D)\n",
        "print(vector_image)"
      ]
    },
    {
      "cell_type": "code",
      "source": [
        "# Now plot convlutions of images with filters\n",
        "# - for example: \"(scalar image) \\star (pseudovector 0)\"\n",
        "sstarv = scalar_image.convolve_with(vector_filters[0])\n",
        "print(\"s star v:\", sstarv)\n",
        "sstars = scalar_image.convolve_with(scalar_filters[0])\n",
        "print(\"s star s:\", sstars)\n",
        "vstars = vector_image.convolve_with(scalar_filters[0])\n",
        "print(\"v star s:\", vstars)\n",
        "vstarv = vector_image.convolve_with(vector_filters[1])\n",
        "print(\"v star v:\", vstarv)\n",
        "if len(pseudovector_filters) > 0:\n",
        "    vstarpv = vector_image.convolve_with(pseudovector_filters[1])\n",
        "    print(\"v star pv:\", vstarpv)"
      ],
      "metadata": {
        "id": "T-FKunLZx2M_",
        "colab": {
          "base_uri": "https://localhost:8080/"
        },
        "outputId": "bc87158d-2055-4981-ff14-2a53c1bc550b"
      },
      "execution_count": 41,
      "outputs": [
        {
          "output_type": "stream",
          "name": "stdout",
          "text": [
            "s star v: <geometric image object in D=2 with N=16, k=1, and parity=1>\n",
            "s star s: <geometric image object in D=2 with N=16, k=0, and parity=1>\n",
            "v star s: <geometric image object in D=2 with N=16, k=1, and parity=1>\n",
            "v star v: <geometric image object in D=2 with N=16, k=2, and parity=1>\n",
            "v star pv: <geometric image object in D=2 with N=16, k=2, and parity=-1>\n"
          ]
        }
      ]
    },
    {
      "cell_type": "code",
      "source": [
        "def plot_vector_image(image):\n",
        "    plotdata = np.array([[pp[0], pp[1], image[kk].data[0], image[kk].data[1]]\n",
        "                         for kk, pp in zip(image.keys(), image.pixels())])\n",
        "    plt.gca().set_aspect(\"equal\", adjustable=\"box\")\n",
        "    plot_vectors(plotdata[:, 0], plotdata[:, 1], plotdata[:, 2:4],\n",
        "                 boxes=False, fill=False)\n",
        "\n",
        "plot_scalar_image(scalar_image)\n",
        "plot_vector_image(sstarv)\n",
        "plt.title(\"scalar image STAR vector filter\")"
      ],
      "metadata": {
        "id": "KD1X3NWY0j8e",
        "colab": {
          "base_uri": "https://localhost:8080/",
          "height": 299
        },
        "outputId": "d1225a12-a8de-456d-8641-51746894f8fc"
      },
      "execution_count": 42,
      "outputs": [
        {
          "output_type": "execute_result",
          "data": {
            "text/plain": [
              "Text(0.5, 1.0, 'scalar image STAR vector filter')"
            ]
          },
          "metadata": {},
          "execution_count": 42
        },
        {
          "output_type": "display_data",
          "data": {
            "text/plain": [
              "<Figure size 432x288 with 1 Axes>"
            ],
            "image/png": "[encoded data removed]"
          },
          "metadata": {
            "needs_background": "light"
          }
        }
      ]
    },
    {
      "cell_type": "code",
      "source": [
        ""
      ],
      "metadata": {
        "id": "EC9b9xxh2aXI"
      },
      "execution_count": 28,
      "outputs": []
    }
  ],
  "metadata": {
    "colab": {
      "collapsed_sections": [],
      "name": "group_averaging.ipynb",
      "provenance": [],
      "include_colab_link": true
    },
    "kernelspec": {
      "display_name": "Python 3",
      "name": "python3"
    },
    "language_info": {
      "name": "python"
    }
  },
  "nbformat": 4,
  "nbformat_minor": 0
}