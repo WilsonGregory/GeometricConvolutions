{
 "cells": [
  {
   "cell_type": "code",
   "execution_count": 1,
   "id": "6320a192",
   "metadata": {},
   "outputs": [],
   "source": [
    "import geometricconvolutions.geometric as geom\n",
    "import geometricconvolutions.utils as utils\n",
    "import jax.numpy as jnp\n",
    "import jax\n",
    "import numpy as np\n",
    "from functools import partial\n",
    "import jax.random as random\n",
    "import timeit\n",
    "\n",
    "%load_ext autoreload\n",
    "%autoreload 2"
   ]
  },
  {
   "cell_type": "code",
   "execution_count": 2,
   "id": "47a71aba",
   "metadata": {},
   "outputs": [
    {
     "name": "stderr",
     "output_type": "stream",
     "text": [
      "WARNING:absl:No GPU/TPU found, falling back to CPU. (Set TF_CPP_MIN_LOG_LEVEL=0 and rerun for more info.)\n"
     ]
    }
   ],
   "source": [
    "key = jax.random.PRNGKey(0)"
   ]
  },
  {
   "cell_type": "code",
   "execution_count": 7,
   "id": "0c5deedb",
   "metadata": {},
   "outputs": [
    {
     "data": {
      "text/plain": [
       "DeviceArray([[ True,  True],\n",
       "             [ True,  True]], dtype=bool)"
      ]
     },
     "execution_count": 7,
     "metadata": {},
     "output_type": "execute_result"
    }
   ],
   "source": [
    "D = 2\n",
    "N = 3\n",
    "parity = 0\n",
    "k = 0\n",
    "operators = geom.make_all_operators(D)\n",
    "invariants = geom.get_unique_invariant_filters(N, k, parity, D, operators, scale='one')\n",
    "names = [\"{} {}\".format(geom.tensor_name(k, parity), i) for i in range(len(invariants))]\n",
    "len(invariants)\n",
    "geom.LeviCivitaSymbol.get(2).T == geom.LeviCivitaSymbol.get(2)*-1"
   ]
  },
  {
   "cell_type": "code",
   "execution_count": 9,
   "id": "327a516a",
   "metadata": {},
   "outputs": [
    {
     "name": "stdout",
     "output_type": "stream",
     "text": [
      "[[[[ 0  1]\n",
      "   [-1  0]]]]\n",
      "element:\n",
      "[[[[ 0.  1.]\n",
      "   [-1.  0.]]]]\n",
      "element:\n",
      "[[[[-0.  1.]\n",
      "   [-1. -0.]]]]\n",
      "element:\n",
      "[[[[-0.  1.]\n",
      "   [-1. -0.]]]]\n",
      "element:\n",
      "[[[[ 0.  1.]\n",
      "   [-1.  0.]]]]\n",
      "element:\n",
      "[[[[-0.  1.]\n",
      "   [-1. -0.]]]]\n",
      "element:\n",
      "[[[[ 0.  1.]\n",
      "   [-1.  0.]]]]\n",
      "element:\n",
      "[[[[ 0.  1.]\n",
      "   [-1.  0.]]]]\n",
      "element:\n",
      "[[[[-0.  1.]\n",
      "   [-1. -0.]]]]\n"
     ]
    }
   ],
   "source": [
    "levi_image = geom.GeometricImage(geom.LeviCivitaSymbol.get(D).reshape((1,1,D,D)), 1, 2)\n",
    "print(levi_image.data)\n",
    "for gg in operators:\n",
    "    print('element:')\n",
    "    print(levi_image.times_group_element(gg).data)\n"
   ]
  },
  {
   "cell_type": "code",
   "execution_count": null,
   "id": "0149d078",
   "metadata": {},
   "outputs": [],
   "source": [
    "utils.plot_filters(invariants[:10], names, len(invariants[:10]))"
   ]
  },
  {
   "cell_type": "code",
   "execution_count": 4,
   "id": "80a87208",
   "metadata": {},
   "outputs": [
    {
     "name": "stdout",
     "output_type": "stream",
     "text": [
      "foo\n",
      "compiling\n",
      "foo\n",
      "compiling\n",
      "foo\n",
      "compiling\n",
      "foo\n",
      "compiling\n",
      "foo\n",
      "compiling\n",
      "foo\n",
      "compiling\n",
      "foo\n",
      "compiling\n",
      "foo\n",
      "compiling\n",
      "foo\n",
      "compiling\n",
      "foo\n",
      "compiling\n",
      "foo\n",
      "compiling\n",
      "foo\n",
      "compiling\n",
      "foo\n",
      "compiling\n",
      "foo\n",
      "compiling\n",
      "foo\n",
      "compiling\n"
     ]
    }
   ],
   "source": [
    "# Make an N side length, parity=0 geometric vector image on a D-torus\n",
    "key = random.PRNGKey(0)\n",
    "img_k = 5\n",
    "\n",
    "img = geom.GeometricImage(random.normal(key, shape=(N,)*D + (D,)*img_k), 0, D)\n",
    "for idxs in geom.get_contraction_indices(img_k, 1):\n",
    "    print('foo')\n",
    "    img.multicontract(idxs)"
   ]
  },
  {
   "cell_type": "code",
   "execution_count": null,
   "id": "f4f58f65",
   "metadata": {},
   "outputs": [],
   "source": [
    "print(len(vector_images))\n",
    "params = jnp.arange(10)\n",
    "image_sum = geom.linear_combination(vector_images, params)\n",
    "print(image_sum)"
   ]
  },
  {
   "cell_type": "code",
   "execution_count": null,
   "id": "e8fde01e",
   "metadata": {},
   "outputs": [],
   "source": [
    "%timeit geom.linear_combination(vector_images, params).block_until_ready()"
   ]
  },
  {
   "cell_type": "code",
   "execution_count": null,
   "id": "9a3dc3f3",
   "metadata": {},
   "outputs": [],
   "source": [
    "jit_linear_combo = jax.jit(geom.linear_combination)\n",
    "jit_linear_combo(vector_images, params)"
   ]
  },
  {
   "cell_type": "code",
   "execution_count": null,
   "id": "1f133767",
   "metadata": {},
   "outputs": [],
   "source": [
    "%timeit jit_linear_combo(vector_images, params).block_until_ready()"
   ]
  },
  {
   "cell_type": "code",
   "execution_count": null,
   "id": "c8bad0f3",
   "metadata": {},
   "outputs": [],
   "source": [
    "def f(carry, x):\n",
    "    return carry, x ** 2\n",
    "\n",
    "\n",
    "jax.lax.scan(f, 1, [1,2,3])\n",
    "\n"
   ]
  },
  {
   "cell_type": "code",
   "execution_count": null,
   "id": "c4a81f1a",
   "metadata": {},
   "outputs": [],
   "source": []
  }
 ],
 "metadata": {
  "kernelspec": {
   "display_name": "Python 3 (ipykernel)",
   "language": "python",
   "name": "python3"
  },
  "language_info": {
   "codemirror_mode": {
    "name": "ipython",
    "version": 3
   },
   "file_extension": ".py",
   "mimetype": "text/x-python",
   "name": "python",
   "nbconvert_exporter": "python",
   "pygments_lexer": "ipython3",
   "version": "3.9.10"
  }
 },
 "nbformat": 4,
 "nbformat_minor": 5
}
