{
 "cells": [
  {
   "cell_type": "code",
   "execution_count": null,
   "id": "d22f6181",
   "metadata": {},
   "outputs": [],
   "source": [
    "import sys\n",
    "sys.path.insert(0,'../src/geometricconvolutions/')\n",
    "import itertools as it\n",
    "import numpy as np\n",
    "import jax.numpy as jnp\n",
    "import jax.random as random\n",
    "import geometric as geom\n",
    "import utils\n",
    "import pylab as plt\n",
    "%load_ext autoreload\n",
    "%autoreload 2"
   ]
  },
  {
   "cell_type": "code",
   "execution_count": null,
   "id": "63a56152",
   "metadata": {},
   "outputs": [],
   "source": [
    "D = 2\n",
    "group_operators = geom.make_all_operators(D)\n",
    "print(len(group_operators))"
   ]
  },
  {
   "cell_type": "code",
   "execution_count": null,
   "id": "0da07b41",
   "metadata": {},
   "outputs": [],
   "source": [
    "allfilters = {}\n",
    "names = {}\n",
    "maxn = {}\n",
    "for M in [3, ]: #filter size, 3x3\n",
    "    maxn[(D, M)] = 0\n",
    "    for k in [0,1,2]: #tensor order\n",
    "        for parity in [0,1]: #parity\n",
    "            key = (D, M, k, parity)\n",
    "            allfilters[key] = geom.get_unique_invariant_filters(M, k, parity, D, group_operators)\n",
    "            n = len(allfilters[key])\n",
    "            if n > maxn[(D, M)]:\n",
    "                maxn[(D, M)] = n\n",
    "            names[key] = [\"{} {}\".format(geom.tensor_name(k, parity), i) for i in range(n)]"
   ]
  },
  {
   "cell_type": "code",
   "execution_count": null,
   "id": "019077b6",
   "metadata": {},
   "outputs": [],
   "source": [
    "for key in allfilters.keys():\n",
    "    D, M, k, parity = key\n",
    "    utils.plot_filters(allfilters[key], names[key], maxn[(D, M)])"
   ]
  },
  {
   "cell_type": "code",
   "execution_count": null,
   "id": "015c15d7",
   "metadata": {},
   "outputs": [],
   "source": [
    "filter_list = list(it.chain(*list(allfilters.values())))\n",
    "print(len(filter_list))"
   ]
  },
  {
   "cell_type": "code",
   "execution_count": null,
   "id": "bb5e53fb",
   "metadata": {},
   "outputs": [],
   "source": [
    "# Make an N side length, parity=0 geometric vector image on a D-torus\n",
    "N = 3\n",
    "key = random.PRNGKey(0)\n",
    "vector_image = geom.GeometricImage(random.normal(key, shape=((N,)*D + (D,))), 0, D).normalize()\n",
    "if D == 2:\n",
    "    utils.plot_image(vector_image)"
   ]
  },
  {
   "cell_type": "code",
   "execution_count": null,
   "id": "fb6d56db",
   "metadata": {},
   "outputs": [],
   "source": [
    "vector_images = []\n",
    "for c1_idx, c2_idx in it.combinations_with_replacement(range(len(filter_list)), 2):\n",
    "    c1 = filter_list[c1_idx]\n",
    "    c2 = filter_list[c2_idx]\n",
    "    \n",
    "    #conditions suitable for a sequence of kronecker contractions\n",
    "    if ((c1.k + c2.k + vector_image.k)%2 == 0):\n",
    "        B1 = vector_image.convolve_with(c1)\n",
    "        B2 = vector_image.convolve_with(c2)\n",
    "        img = (B1*B2)\n",
    "        \n",
    "        if (img.parity != vector_image.parity):\n",
    "            continue\n",
    "            for levi_idxs in it.permutations(range(img.k), img.D - 1):\n",
    "                img_levi_contracted = img.levi_civita_contract(levi_idxs)\n",
    "                \n",
    "                tuple_pairs = it.combinations(it.combinations(range(img.k),2),img.k // 2)\n",
    "                pairs = np.array([np.array(x).reshape((img.k-vector_image.k,)) for x in tuple_pairs])\n",
    "                unique_rows = np.array([True if len(np.unique(row)) == len(row) else False for row in pairs])\n",
    "                unique_pairs = pairs[unique_rows]\n",
    "\n",
    "                for idxs in unique_pairs:\n",
    "                    img_contracted = img_levi_contracted\n",
    "                    while(len(idxs) > 0):\n",
    "                        idx1, idx2, *idxs = idxs\n",
    "                        img_contracted = img_contracted.contract(idx1, idx2) #could use multi-contract\n",
    "\n",
    "                        # adjust indices now that we have removed some\n",
    "                        larger_idx = np.max([idx1, idx2])\n",
    "                        smaller_idx = np.min([idx1, idx2])\n",
    "                        idxs = [x if x < larger_idx else x-1 for x in idxs]\n",
    "                        idxs = [x if x < smaller_idx else x-1 for x in idxs]\n",
    "\n",
    "                    assert img_contracted.shape() == vector_image.shape()\n",
    "                    vector_images.append(img_contracted.normalize())\n",
    "                \n",
    "        else:\n",
    "            tuple_pairs = it.combinations(it.combinations(range(img.k),2),img.k // 2)\n",
    "            pairs = np.array([np.array(x).reshape((img.k-vector_image.k,)) for x in tuple_pairs])\n",
    "            unique_rows = np.array([True if len(np.unique(row)) == len(row) else False for row in pairs])\n",
    "            unique_pairs = pairs[unique_rows]\n",
    "\n",
    "            for idxs in unique_pairs:\n",
    "                img_contracted = img\n",
    "                while(len(idxs) > 0):\n",
    "                    idx1, idx2, *idxs = idxs\n",
    "                    img_contracted = img_contracted.contract(idx1, idx2) #could use multi-contract\n",
    "\n",
    "                    # adjust indices now that we have removed some\n",
    "                    larger_idx = np.max([idx1, idx2])\n",
    "                    smaller_idx = np.min([idx1, idx2])\n",
    "                    idxs = [x if x < larger_idx else x-1 for x in idxs]\n",
    "                    idxs = [x if x < smaller_idx else x-1 for x in idxs]\n",
    "\n",
    "                assert img_contracted.shape() == vector_image.shape()\n",
    "                vector_images.append(img_contracted.normalize())"
   ]
  },
  {
   "cell_type": "code",
   "execution_count": null,
   "id": "b4bb16be",
   "metadata": {},
   "outputs": [],
   "source": [
    "datablock = np.array([im.data.flatten() for im in vector_images])\n",
    "print(datablock.shape)\n",
    "u, s, v = np.linalg.svd(datablock)\n",
    "print(\"there are\", np.sum(s > geom.TINY), \"different images\")"
   ]
  },
  {
   "cell_type": "code",
   "execution_count": null,
   "id": "09cc4596",
   "metadata": {},
   "outputs": [],
   "source": []
  }
 ],
 "metadata": {
  "kernelspec": {
   "display_name": "Python 3 (ipykernel)",
   "language": "python",
   "name": "python3"
  },
  "language_info": {
   "codemirror_mode": {
    "name": "ipython",
    "version": 3
   },
   "file_extension": ".py",
   "mimetype": "text/x-python",
   "name": "python",
   "nbconvert_exporter": "python",
   "pygments_lexer": "ipython3",
   "version": "3.9.10"
  }
 },
 "nbformat": 4,
 "nbformat_minor": 5
}
