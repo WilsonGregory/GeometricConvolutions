{
 "cells": [
  {
   "cell_type": "code",
   "execution_count": null,
   "id": "d22f6181",
   "metadata": {},
   "outputs": [],
   "source": [
    "import itertools as it\n",
    "import numpy as np\n",
    "import jax.numpy as jnp\n",
    "import jax.random as random\n",
    "import geometricconvolutions.geometric as geom\n",
    "import geometricconvolutions.utils as utils\n",
    "%load_ext autoreload\n",
    "%autoreload 2"
   ]
  },
  {
   "cell_type": "code",
   "execution_count": null,
   "id": "63a56152",
   "metadata": {},
   "outputs": [],
   "source": [
    "D = 2\n",
    "N = 3\n",
    "img_k = 1\n",
    "max_k = 2\n",
    "group_operators = geom.make_all_operators(D)\n",
    "print(len(group_operators))"
   ]
  },
  {
   "cell_type": "code",
   "execution_count": null,
   "id": "0da07b41",
   "metadata": {},
   "outputs": [],
   "source": [
    "allfilters = {}\n",
    "names = {}\n",
    "maxn = {}\n",
    "maxn[(D, N)] = 0\n",
    "for k in range(max_k+1): #tensor order\n",
    "    for parity in [0,1]: #parity\n",
    "        key = (D, N, k, parity)\n",
    "        allfilters[key] = geom.get_unique_invariant_filters(N, k, parity, D, group_operators)\n",
    "        n = len(allfilters[key])\n",
    "        if n > maxn[(D, N)]:\n",
    "            maxn[(D, N)] = n\n",
    "        names[key] = [\"{} {}\".format(geom.tensor_name(k, parity), i) for i in range(n)]"
   ]
  },
  {
   "cell_type": "code",
   "execution_count": null,
   "id": "019077b6",
   "metadata": {},
   "outputs": [],
   "source": [
    "for key in allfilters.keys():\n",
    "    D, M, k, parity = key\n",
    "    utils.plot_filters(allfilters[key], names[key], maxn[(D, M)])"
   ]
  },
  {
   "cell_type": "code",
   "execution_count": null,
   "id": "015c15d7",
   "metadata": {},
   "outputs": [],
   "source": [
    "filter_list = list(it.chain(*list(allfilters.values())))\n",
    "print(len(filter_list))"
   ]
  },
  {
   "cell_type": "code",
   "execution_count": null,
   "id": "bb5e53fb",
   "metadata": {},
   "outputs": [],
   "source": [
    "# Make an N side length, parity=0 geometric vector image on a D-torus\n",
    "key = random.PRNGKey(0)\n",
    "key, subkey = random.split(key)\n",
    "vector_image1 = geom.GeometricImage(random.normal(subkey, shape=((N,)*D + (D,)*img_k)), 0, D).normalize()\n",
    "key, subkey = random.split(key)\n",
    "vector_image2 = geom.GeometricImage(random.normal(subkey, shape=((N,)*D + (D,)*img_k)), 0, D).normalize()\n",
    "key, subkey = random.split(key)\n",
    "vector_image3 = geom.GeometricImage(random.normal(subkey, shape=((N,)*D + (D,)*img_k)), 0, D).normalize()"
   ]
  },
  {
   "cell_type": "code",
   "execution_count": null,
   "id": "fb6d56db",
   "metadata": {},
   "outputs": [],
   "source": [
    "def getVectorImgs(vector_image, extra_images = []):\n",
    "    vector_images = []\n",
    "    for c1_idx, c2_idx in it.combinations_with_replacement(range(len(filter_list)), 2):\n",
    "        print(c1_idx, c2_idx)\n",
    "        c1 = filter_list[c1_idx]\n",
    "        c2 = filter_list[c2_idx]\n",
    "        \n",
    "        for c3 in filter_list:\n",
    "\n",
    "            #conditions suitable for a sequence of kronecker contractions\n",
    "            if (\n",
    "                ((c1.k + c2.k + c3.k + vector_image.k)%2 == 0) and \n",
    "                ((c1.parity + c2.parity + c3.parity + vector_image.parity)%2 == 0)\n",
    "            ):\n",
    "                B1 = vector_image.convolve_with(c1)\n",
    "                B2 = vector_image.convolve_with(c2)\n",
    "                img = (B1*B2).convolve_with(c3)\n",
    "\n",
    "                tuple_pairs = it.combinations(it.combinations(range(img.k),2),(img.k-vector_image.k) // 2)\n",
    "                pairs = np.array([np.array(x).reshape((img.k-vector_image.k,)) for x in tuple_pairs])\n",
    "                unique_rows = np.array([True if len(np.unique(row)) == len(row) else False for row in pairs])\n",
    "                unique_pairs = pairs[unique_rows]\n",
    "\n",
    "                for idxs in unique_pairs:\n",
    "                    idxs = jnp.array(idxs)\n",
    "                    img_contracted = img.multicontract(idxs)\n",
    "                    assert img_contracted.shape() == vector_image.shape()\n",
    "\n",
    "                    long_image = img_contracted.data.flatten()\n",
    "                    for extra_image in extra_images:\n",
    "                        extra_img = (extra_image.convolve_with(c1)*extra_image.convolve_with(c2))\n",
    "                        extra_img_data = extra_img.convolve_with(c3).multicontract(idxs).data.flatten()\n",
    "                        long_image = jnp.concatenate((long_image, extra_img_data))\n",
    "\n",
    "                    vector_images.append(long_image)\n",
    "    return jnp.array(vector_images)"
   ]
  },
  {
   "cell_type": "code",
   "execution_count": null,
   "id": "2a424a43",
   "metadata": {},
   "outputs": [],
   "source": [
    "datablock = getVectorImgs(vector_image1, [vector_image2, vector_image3])"
   ]
  },
  {
   "cell_type": "code",
   "execution_count": null,
   "id": "171ca415",
   "metadata": {},
   "outputs": [],
   "source": [
    "datablock.shape"
   ]
  },
  {
   "cell_type": "code",
   "execution_count": null,
   "id": "b4bb16be",
   "metadata": {},
   "outputs": [],
   "source": [
    "# datablock = np.array([im.data.flatten() for im in vector_images1])\n",
    "print(datablock.shape)\n",
    "u, s, v = np.linalg.svd(datablock)\n",
    "print(\"there are\", np.sum(s > geom.TINY), \"different images\")"
   ]
  },
  {
   "cell_type": "code",
   "execution_count": null,
   "id": "bab03fc4",
   "metadata": {},
   "outputs": [],
   "source": []
  }
 ],
 "metadata": {
  "kernelspec": {
   "display_name": "Python 3 (ipykernel)",
   "language": "python",
   "name": "python3"
  },
  "language_info": {
   "codemirror_mode": {
    "name": "ipython",
    "version": 3
   },
   "file_extension": ".py",
   "mimetype": "text/x-python",
   "name": "python",
   "nbconvert_exporter": "python",
   "pygments_lexer": "ipython3",
   "version": "3.9.10"
  }
 },
 "nbformat": 4,
 "nbformat_minor": 5
}
