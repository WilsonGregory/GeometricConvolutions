{
 "cells": [
  {
   "cell_type": "markdown",
   "id": "0134ced9",
   "metadata": {},
   "source": [
    "# Make figures for paper on geometric images\n",
    "\n",
    "## Authors:\n",
    "- **David W. Hogg** (NYU) (MPIA) (Flatiron)\n",
    "- **Soledad Villar** (JHU)\n",
    "\n",
    "## To-do items and bugs:\n",
    "- Make plots (and maybe a LaTeX table) that illustrate the group B_d.\n",
    "- Figure out a better way to plot in `D=3`."
   ]
  },
  {
   "cell_type": "code",
   "execution_count": 1,
   "id": "6f5410a2",
   "metadata": {},
   "outputs": [],
   "source": [
    "import sys\n",
    "sys.path.insert(0,'../src/geometricconvolutions/')"
   ]
  },
  {
   "cell_type": "code",
   "execution_count": 2,
   "id": "cb453713",
   "metadata": {},
   "outputs": [],
   "source": [
    "import itertools as it\n",
    "import numpy as np\n",
    "import geometric as geom\n",
    "import finufft\n",
    "import pylab as plt\n",
    "%load_ext autoreload\n",
    "%autoreload 2"
   ]
  },
  {
   "cell_type": "code",
   "execution_count": 3,
   "id": "d7457f4b",
   "metadata": {},
   "outputs": [],
   "source": [
    "D = 2\n",
    "group_operators = geom.make_all_operators(D)"
   ]
  },
  {
   "cell_type": "code",
   "execution_count": 4,
   "id": "fd529235",
   "metadata": {},
   "outputs": [
    {
     "name": "stdout",
     "output_type": "stream",
     "text": [
      "group is closed under multiplication\n",
      "group operators are the transposes of their inverses\n"
     ]
    },
    {
     "data": {
      "text/plain": [
       "True"
      ]
     },
     "execution_count": 4,
     "metadata": {},
     "output_type": "execute_result"
    }
   ],
   "source": [
    "geom.test_group(group_operators)"
   ]
  },
  {
   "cell_type": "code",
   "execution_count": 5,
   "id": "9e428c7b",
   "metadata": {},
   "outputs": [
    {
     "name": "stdout",
     "output_type": "stream",
     "text": [
      "passed (parity = 0) vector dot test.\n",
      "passed (parity = 0) tensor times tensor test\n",
      "passed (parity = 0) v T v test.\n",
      "passed (parity = 1) vector dot test.\n",
      "passed (parity = 1) tensor times tensor test\n",
      "passed (parity = 1) v T v test.\n"
     ]
    },
    {
     "data": {
      "text/plain": [
       "True"
      ]
     },
     "execution_count": 5,
     "metadata": {},
     "output_type": "execute_result"
    }
   ],
   "source": [
    "geom.test_group_actions(group_operators)"
   ]
  },
  {
   "cell_type": "code",
   "execution_count": 9,
   "id": "2ad2a13f",
   "metadata": {},
   "outputs": [
    {
     "ename": "ValueError",
     "evalue": "matmul: Input operand 1 does not have enough dimensions (has 0, gufunc core with signature (n?,k),(k,m?)->(n?,m?) requires 1)",
     "output_type": "error",
     "traceback": [
      "\u001b[0;31m---------------------------------------------------------------------------\u001b[0m",
      "\u001b[0;31mValueError\u001b[0m                                Traceback (most recent call last)",
      "Input \u001b[0;32mIn [9]\u001b[0m, in \u001b[0;36m<module>\u001b[0;34m\u001b[0m\n\u001b[1;32m     14\u001b[0m \u001b[38;5;28;01mfor\u001b[39;00m k, parity \u001b[38;5;129;01min\u001b[39;00m it\u001b[38;5;241m.\u001b[39mproduct(klist, (\u001b[38;5;241m0\u001b[39m, \u001b[38;5;241m1\u001b[39m)):\n\u001b[1;32m     15\u001b[0m     key \u001b[38;5;241m=\u001b[39m (D, M, k, parity)\n\u001b[0;32m---> 16\u001b[0m     allfilters[key] \u001b[38;5;241m=\u001b[39m \u001b[43mgeom\u001b[49m\u001b[38;5;241;43m.\u001b[39;49m\u001b[43mget_unique_invariant_filters\u001b[49m\u001b[43m(\u001b[49m\u001b[43mM\u001b[49m\u001b[43m,\u001b[49m\u001b[43m \u001b[49m\u001b[43mk\u001b[49m\u001b[43m,\u001b[49m\u001b[43m \u001b[49m\u001b[43mparity\u001b[49m\u001b[43m,\u001b[49m\u001b[43m \u001b[49m\u001b[43mD\u001b[49m\u001b[43m,\u001b[49m\u001b[43m \u001b[49m\u001b[43mgroup_operators\u001b[49m\u001b[43m)\u001b[49m\n\u001b[1;32m     17\u001b[0m     allfilters_big[bigkey] \u001b[38;5;241m+\u001b[39m\u001b[38;5;241m=\u001b[39m allfilters[key]\n\u001b[1;32m     18\u001b[0m     names[key] \u001b[38;5;241m=\u001b[39m [\u001b[38;5;124m\"\u001b[39m\u001b[38;5;132;01m{}\u001b[39;00m\u001b[38;5;124m \u001b[39m\u001b[38;5;132;01m{}\u001b[39;00m\u001b[38;5;124m\"\u001b[39m\u001b[38;5;241m.\u001b[39mformat(geom\u001b[38;5;241m.\u001b[39mktensor\u001b[38;5;241m.\u001b[39mname(k, parity), i)\n\u001b[1;32m     19\u001b[0m                   \u001b[38;5;28;01mfor\u001b[39;00m i \u001b[38;5;129;01min\u001b[39;00m \u001b[38;5;28mrange\u001b[39m(\u001b[38;5;28mlen\u001b[39m(allfilters[key]))]\n",
      "File \u001b[0;32m~/Documents/jhu/equivariance_research/GeometricConvolutions/notebooks/../src/geometricconvolutions/geometric.py:282\u001b[0m, in \u001b[0;36mget_unique_invariant_filters\u001b[0;34m(M, k, parity, D, operators)\u001b[0m\n\u001b[1;32m    280\u001b[0m     ff \u001b[38;5;241m=\u001b[39m geometric_filter\u001b[38;5;241m.\u001b[39mzeros(M, k, parity, D)\n\u001b[1;32m    281\u001b[0m     \u001b[38;5;28;01mfor\u001b[39;00m gg \u001b[38;5;129;01min\u001b[39;00m operators:\n\u001b[0;32m--> 282\u001b[0m         ff \u001b[38;5;241m=\u001b[39m ff \u001b[38;5;241m+\u001b[39m \u001b[43mf1\u001b[49m\u001b[38;5;241;43m.\u001b[39;49m\u001b[43mtimes_group_element\u001b[49m\u001b[43m(\u001b[49m\u001b[43mgg\u001b[49m\u001b[43m)\u001b[49m\n\u001b[1;32m    283\u001b[0m     filter_matrix[i] \u001b[38;5;241m=\u001b[39m ff\u001b[38;5;241m.\u001b[39mdata\u001b[38;5;241m.\u001b[39mflatten()\n\u001b[1;32m    285\u001b[0m \u001b[38;5;66;03m# do the SVD\u001b[39;00m\n",
      "File \u001b[0;32m~/Documents/jhu/equivariance_research/GeometricConvolutions/notebooks/../src/geometricconvolutions/geometric.py:489\u001b[0m, in \u001b[0;36mgeometric_image.times_group_element\u001b[0;34m(self, gg)\u001b[0m\n\u001b[1;32m    487\u001b[0m newfilter \u001b[38;5;241m=\u001b[39m \u001b[38;5;28mself\u001b[39m\u001b[38;5;241m.\u001b[39mcopy()\n\u001b[1;32m    488\u001b[0m \u001b[38;5;28;01mfor\u001b[39;00m key, ktensor \u001b[38;5;129;01min\u001b[39;00m \u001b[38;5;28mself\u001b[39m\u001b[38;5;241m.\u001b[39mitems():\n\u001b[0;32m--> 489\u001b[0m     newfilter[key] \u001b[38;5;241m=\u001b[39m \u001b[38;5;28mself\u001b[39m[\u001b[38;5;28mself\u001b[39m\u001b[38;5;241m.\u001b[39mhash(\u001b[43mgg\u001b[49m\u001b[38;5;241;43m.\u001b[39;49m\u001b[43mT\u001b[49m\u001b[43m \u001b[49m\u001b[38;5;241;43m@\u001b[39;49m\u001b[43m \u001b[49m\u001b[43mktensor\u001b[49m)]\u001b[38;5;241m.\u001b[39mtimes_group_element(gg)\n\u001b[1;32m    490\u001b[0m \u001b[38;5;28;01mreturn\u001b[39;00m newfilter\n",
      "\u001b[0;31mValueError\u001b[0m: matmul: Input operand 1 does not have enough dimensions (has 0, gufunc core with signature (n?,k),(k,m?)->(n?,m?) requires 1)"
     ]
    }
   ],
   "source": [
    "allfilters_big = {}\n",
    "allfilters = {}\n",
    "names_big = {}\n",
    "names = {}\n",
    "maxn = {}\n",
    "for M in [3, 5]:\n",
    "    maxn[(D, M)] = 0\n",
    "    klist = (0, 1, 2)\n",
    "    if M > 3:\n",
    "        klist = (0, 1)\n",
    "    bigkey = (D, M)\n",
    "    allfilters_big[bigkey] = []\n",
    "    names_big[bigkey] = []\n",
    "    for k, parity in it.product(klist, (0, 1)):\n",
    "        key = (D, M, k, parity)\n",
    "        allfilters[key] = geom.get_unique_invariant_filters(M, k, parity, D, group_operators)\n",
    "        allfilters_big[bigkey] += allfilters[key]\n",
    "        names[key] = [\"{} {}\".format(geom.ktensor.name(k, parity), i)\n",
    "                      for i in range(len(allfilters[key]))]\n",
    "        names_big[bigkey] += names[key]"
   ]
  },
  {
   "cell_type": "code",
   "execution_count": null,
   "id": "5d0d7478",
   "metadata": {},
   "outputs": [],
   "source": [
    "dpi = 300\n",
    "paritysign = {0: \"+\", 1: \"-\"}\n",
    "for key in allfilters_big.keys():\n",
    "    D, M = key\n",
    "    fig = geom.plot_filters(allfilters_big[key], names_big[key],\n",
    "                            np.floor(np.sqrt(len(names_big[key]))).astype(int))\n",
    "    plotname = \"filter_{}_{}.png\".format(D, M)\n",
    "#     fig.savefig(plotname, dpi=dpi)"
   ]
  },
  {
   "cell_type": "code",
   "execution_count": null,
   "id": "cc45ee60",
   "metadata": {},
   "outputs": [],
   "source": [
    "# make a sensible smooth scalar image on a 2-torus\n",
    "N = 16\n",
    "D = 2\n",
    "np.random.seed(42)\n",
    "image = np.random.normal(size=D * (N, ))\n",
    "foo = np.pi * np.arange(-1. + 1. / N, 1., 2. / N)\n",
    "ys, xs = np.meshgrid(foo, foo) # ys, xs or xs, ys??\n",
    "ft = finufft.nufft2d1(xs.flatten(), ys.flatten(), image.flatten().astype(complex), (6, 5))\n",
    "package = finufft.nufft2d2(xs.flatten(), ys.flatten(), ft).reshape(N, N).real\n",
    "package -= np.mean(package)\n",
    "package /= np.sqrt(np.mean(package ** 2))\n",
    "scalar_image = geom.geometric_image(package, 1, D)"
   ]
  },
  {
   "cell_type": "code",
   "execution_count": null,
   "id": "fb4d08ba",
   "metadata": {},
   "outputs": [],
   "source": [
    "filters = [(allfilters[(D, 5, 0, 0)][4], r\"C_{s}\"),\n",
    "           (allfilters[(D, 5, 0, 1)][0], r\"C_{ps}\"),\n",
    "           (allfilters[(D, 3, 1, 0)][0], r\"C_{v}\"),\n",
    "           (allfilters[(D, 3, 1, 1)][0], r\"C_{pv}\"),\n",
    "          ]"
   ]
  },
  {
   "cell_type": "code",
   "execution_count": null,
   "id": "c5ee2568",
   "metadata": {},
   "outputs": [],
   "source": [
    "monomials = {}\n",
    "monomials[1] = [(scalar_image.normalize(), r\"s\"), ]\n",
    "monomials[1] += [(scalar_image.convolve_with(ff).normalize(),\n",
    "                  r\"s\\ast \" + tt) for ff, tt in filters]"
   ]
  },
  {
   "cell_type": "code",
   "execution_count": null,
   "id": "c1f6d2a5",
   "metadata": {},
   "outputs": [],
   "source": [
    "degree = 1\n",
    "fig = geom.plot_images(monomials[degree])\n",
    "# fig.savefig(\"monomials_{}.png\".format(degree), dpi=dpi)"
   ]
  },
  {
   "cell_type": "code",
   "execution_count": null,
   "id": "af894de8",
   "metadata": {},
   "outputs": [],
   "source": [
    "# next order!\n",
    "monomials[2] = []\n",
    "n = len(monomials[1])\n",
    "for i in range(n):\n",
    "    for j in range(i, n):\n",
    "        image1, latex1 = monomials[1][i]\n",
    "        image2, latex2 = monomials[1][j]\n",
    "        monomials[2] += [((image1 * image2).normalize(),\n",
    "                          \"(\" + latex1 + r\")\\otimes(\" + latex2 + \")\"),\n",
    "                        ]\n",
    "foo = []\n",
    "for image, latex in monomials[2]:\n",
    "    if image.k > 1:\n",
    "        image = image.contract(0, 1).normalize()\n",
    "        latex = r\"\\mathrm{Tr}[\" + latex + \"]\"\n",
    "    foo += [(image, latex), ]\n",
    "monomials[2] = foo"
   ]
  },
  {
   "cell_type": "code",
   "execution_count": null,
   "id": "ecf41eae",
   "metadata": {},
   "outputs": [],
   "source": [
    "degree = 2\n",
    "fig = geom.plot_images(monomials[degree])\n",
    "# fig.savefig(\"monomials_{}.png\".format(degree), dpi=dpi)"
   ]
  },
  {
   "cell_type": "code",
   "execution_count": null,
   "id": "4baf0c77",
   "metadata": {},
   "outputs": [],
   "source": []
  }
 ],
 "metadata": {
  "kernelspec": {
   "display_name": "Python 3 (ipykernel)",
   "language": "python",
   "name": "python3"
  },
  "language_info": {
   "codemirror_mode": {
    "name": "ipython",
    "version": 3
   },
   "file_extension": ".py",
   "mimetype": "text/x-python",
   "name": "python",
   "nbconvert_exporter": "python",
   "pygments_lexer": "ipython3",
   "version": "3.9.10"
  }
 },
 "nbformat": 4,
 "nbformat_minor": 5
}
