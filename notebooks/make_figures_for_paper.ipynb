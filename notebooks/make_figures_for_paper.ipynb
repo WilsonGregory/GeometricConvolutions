{
 "cells": [
  {
   "cell_type": "markdown",
   "id": "0134ced9",
   "metadata": {},
   "source": [
    "# Make figures for paper on geometric images\n",
    "\n",
    "## Authors:\n",
    "- **David W. Hogg** (NYU) (MPIA) (Flatiron)\n",
    "- **Soledad Villar** (JHU)\n",
    "\n",
    "## To-do items and bugs:\n",
    "- Plot filters in groups with subplots or equivalent (ie, not just one filter per plot).\n",
    "- Figure out how to plot 2-tensor filters.\n",
    "- Figure out which cases need to be plotted.\n",
    "- Figure out a better way to plot in `D=3`."
   ]
  },
  {
   "cell_type": "code",
   "execution_count": null,
   "id": "cb453713",
   "metadata": {},
   "outputs": [],
   "source": [
    "import itertools as it\n",
    "import numpy as np\n",
    "import geometric as geom\n",
    "import finufft\n",
    "import pylab as plt\n",
    "%load_ext autoreload\n",
    "%autoreload 2"
   ]
  },
  {
   "cell_type": "code",
   "execution_count": null,
   "id": "d7457f4b",
   "metadata": {},
   "outputs": [],
   "source": [
    "D = 2\n",
    "group_operators = geom.make_all_operators(D)"
   ]
  },
  {
   "cell_type": "code",
   "execution_count": null,
   "id": "fd529235",
   "metadata": {},
   "outputs": [],
   "source": [
    "geom.test_group(group_operators)"
   ]
  },
  {
   "cell_type": "code",
   "execution_count": null,
   "id": "2ad2a13f",
   "metadata": {},
   "outputs": [],
   "source": [
    "filters = {}\n",
    "names = {}\n",
    "maxn = {}\n",
    "for M in [3, 5]:\n",
    "    maxn[(D, M)] = 0\n",
    "    for k, parity in it.product((0, 1), (1, -1)):\n",
    "        key = (D, M, k, parity)\n",
    "        filters[key] = geom.get_unique_invariant_filters(M, k, parity, D, group_operators)\n",
    "        n = len(filters[key])\n",
    "        if n > maxn[(D, M)]:\n",
    "            maxn[(D, M)] = n\n",
    "        names[key] = [\"{} {}\".format(geom.ktensor.name(k, parity), i) for i in range(n)]"
   ]
  },
  {
   "cell_type": "code",
   "execution_count": null,
   "id": "9d05e860",
   "metadata": {},
   "outputs": [],
   "source": [
    "for key in filters.keys():\n",
    "    D, M, k, parity = key\n",
    "    fig = geom.plot_filters(filters[key], names[key], maxn[(D, M)])\n",
    "    plotname = \"filter{}{}_{}_{}.png\".format(paritysign[parity], k, D, M)\n",
    "    fig.savefig(plotname, dpi=300)"
   ]
  },
  {
   "cell_type": "code",
   "execution_count": null,
   "id": "cc45ee60",
   "metadata": {},
   "outputs": [],
   "source": [
    "# make a sensible smooth scalar image on a 2-torus\n",
    "N = 16\n",
    "D = 2\n",
    "np.random.seed(42)\n",
    "image = np.random.normal(size=D * (N, ))\n",
    "foo = np.pi * np.arange(-1. + 1. / N, 1., 2. / N)\n",
    "ys, xs = np.meshgrid(foo, foo) # ys, xs or xs, ys??\n",
    "ft = finufft.nufft2d1(xs.flatten(), ys.flatten(), image.flatten().astype(complex), (6, 5))\n",
    "package = finufft.nufft2d2(xs.flatten(), ys.flatten(), ft).reshape(N, N).real\n",
    "package -= np.mean(package)\n",
    "package /= np.sqrt(np.mean(package ** 2))\n",
    "scalar_image = geom.geometric_image(package, 1, D)"
   ]
  },
  {
   "cell_type": "code",
   "execution_count": null,
   "id": "fb4d08ba",
   "metadata": {},
   "outputs": [],
   "source": [
    "s_filters = filters[(D, 3, 0, 1)]\n",
    "v_filters = filters[(D, 3, 1, 1)]\n",
    "pv_filters = filters[(D, 3, 1, -1)]\n",
    "sstars = scalar_image.convolve_with(s_filters[1])\n",
    "sstarv = scalar_image.convolve_with(v_filters[0])\n",
    "sstarpv = scalar_image.convolve_with(pv_filters[0])"
   ]
  },
  {
   "cell_type": "code",
   "execution_count": null,
   "id": "c1f6d2a5",
   "metadata": {},
   "outputs": [],
   "source": [
    "ax = geom.plot_scalar_image(scalar_image)\n",
    "plt.title(\"scalar image\")\n",
    "\n",
    "ax = geom.plot_scalar_image(sstars)\n",
    "plt.title(\"scalar image STAR scalar filter\")\n",
    "\n",
    "geom.plot_vector_image(sstarv.normalize().times_scalar(1.5))\n",
    "plt.title(\"scalar image STAR vector filter\")\n",
    "\n",
    "geom.plot_vector_image(sstarpv.normalize().times_scalar(1.5))\n",
    "plt.title(\"scalar image STAR pseudovector filter\")\n",
    "plt.savefig(\"foo.png\", dpi=300)"
   ]
  },
  {
   "cell_type": "code",
   "execution_count": null,
   "id": "daed4506",
   "metadata": {},
   "outputs": [],
   "source": [
    "geom.plot_scalar_image((sstarv * sstarpv).contract(0, 1),\n",
    "                       vmin=-1, vmax=1)\n",
    "plt.title(\"this should be zero\")"
   ]
  },
  {
   "cell_type": "code",
   "execution_count": null,
   "id": "af894de8",
   "metadata": {},
   "outputs": [],
   "source": []
  }
 ],
 "metadata": {
  "kernelspec": {
   "display_name": "Python 3 (ipykernel)",
   "language": "python",
   "name": "python3"
  },
  "language_info": {
   "codemirror_mode": {
    "name": "ipython",
    "version": 3
   },
   "file_extension": ".py",
   "mimetype": "text/x-python",
   "name": "python",
   "nbconvert_exporter": "python",
   "pygments_lexer": "ipython3",
   "version": "3.9.12"
  }
 },
 "nbformat": 4,
 "nbformat_minor": 5
}
