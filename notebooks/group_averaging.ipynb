{
 "cells": [
  {
   "cell_type": "markdown",
   "metadata": {
    "colab_type": "text",
    "id": "view-in-github"
   },
   "source": [
    "<a href=\"https://colab.research.google.com/github/davidwhogg/EmuCosmoSim/blob/main/ipynb/group_averaging.ipynb\" target=\"_parent\"><img src=\"https://colab.research.google.com/assets/colab-badge.svg\" alt=\"Open In Colab\"/></a>"
   ]
  },
  {
   "cell_type": "markdown",
   "metadata": {},
   "source": [
    "# THIS NOTEBOOK IS DEPRECATED\n",
    "\n",
    "All important functionality went into the `geometric.py` file."
   ]
  },
  {
   "cell_type": "markdown",
   "metadata": {
    "id": "YGB_OA6Cvlah"
   },
   "source": [
    "# Finding equivariant convolution operators by group averaging\n",
    "\n",
    "## Authors:\n",
    "- **David W. Hogg** (NYU) (Flatiron)\n",
    "- **Soledad Villar** (JHU)\n",
    "\n",
    "## License\n",
    "Copyright 2022 the authors. All rights reserved *for now*.\n",
    "\n",
    "## To-do\n",
    "- Implement div and curl of filters so we can orient them.\n",
    "- Implement index re-ordering (tensor index permutation).\n",
    "\n",
    "## Bugs:\n",
    "- Haven't figured out yet how to visualize the 2-tensor filters; maybe plot eigenvalues and eigenvectors?\n",
    "- The group operators should be found by recursion; this ought to be more efficient.\n",
    "- Fix 3-d plotting so it does a real projection (not just a set of incomprehensible hacks).\n"
   ]
  },
  {
   "cell_type": "code",
   "execution_count": null,
   "metadata": {
    "id": "Q52E4gJ8UfGG"
   },
   "outputs": [],
   "source": [
    "import numpy as np\n",
    "import pylab as plt\n",
    "import matplotlib.cm as cm\n",
    "from matplotlib.colors import ListedColormap\n",
    "import itertools as it\n",
    "import scipy.signal as sig"
   ]
  },
  {
   "cell_type": "code",
   "execution_count": null,
   "metadata": {
    "id": "yP10B3wza7FO"
   },
   "outputs": [],
   "source": [
    "# Set integers and etc:\n",
    "D = 2 # D-dimensional image (must be 2 or 3 for plotting to work)\n",
    "M = 3 # must be an odd integer\n",
    "TINY = 1.e-5"
   ]
  },
  {
   "cell_type": "markdown",
   "metadata": {
    "id": "kXuKZ19NscF2"
   },
   "source": [
    "# Get the group ready and test it"
   ]
  },
  {
   "cell_type": "code",
   "execution_count": null,
   "metadata": {
    "id": "Fvi8Vw0Z6mFh"
   },
   "outputs": [],
   "source": [
    "def make_all_generators(D):\n",
    "\n",
    "    # Make the flip operator\n",
    "    foo = np.ones(D).astype(int)\n",
    "    foo[0] = -1\n",
    "    gg = np.diag(foo).astype(int)\n",
    "    generators = [gg, ]\n",
    "\n",
    "    # Make the 90-degree rotation operators\n",
    "    for i in range(D):\n",
    "        for j in range(i + 1, D):\n",
    "            gg = np.eye(D).astype(int)\n",
    "            gg[i, i] = 0\n",
    "            gg[j, j] = 0\n",
    "            gg[i, j] = -1\n",
    "            gg[j, i] = 1\n",
    "            generators.append(gg)\n",
    "\n",
    "    return np.array(generators)\n",
    "\n",
    "# Look at them\n",
    "group_generators = make_all_generators(D)\n",
    "for gg in group_generators:\n",
    "    print(gg)"
   ]
  },
  {
   "cell_type": "code",
   "execution_count": null,
   "metadata": {
    "id": "RXUqQpE8VlAy"
   },
   "outputs": [],
   "source": [
    "# Make all possible group operators.\n",
    "# This code is very wasteful; there is a better way with recursion.\n",
    "\n",
    "def make_all_operators(D):\n",
    "    generators = make_all_generators(D)\n",
    "    operators = np.array([np.eye(D).astype(int), ])\n",
    "    foo = 0\n",
    "    while len(operators) != foo:\n",
    "        foo = len(operators)\n",
    "        operators = make_new_operators(operators, generators)\n",
    "    return(operators)\n",
    "\n",
    "def make_new_operators(operators, generators):\n",
    "    for op in operators:\n",
    "        for gg in generators:\n",
    "            op2 = (gg @ op).astype(int)\n",
    "            operators = np.unique(np.append(operators, op2[None, :, :], axis=0), axis=0)\n",
    "    return operators\n",
    "\n",
    "group_operators = make_all_operators(D)\n",
    "print(\"I found\", len(group_operators), \"group operators; here are their determinants:\")\n",
    "for gg in group_operators:\n",
    "    sign, logdet = np.linalg.slogdet(gg)\n",
    "    print(gg, \"determinant:\", sign * np.exp(logdet))"
   ]
  },
  {
   "cell_type": "code",
   "execution_count": null,
   "metadata": {
    "id": "n960Qo6yY2p5"
   },
   "outputs": [],
   "source": [
    "def test_group(operators):\n",
    "    D = len(operators[0])\n",
    "\n",
    "    # Check that the list of group operators is closed\n",
    "    for gg in operators:\n",
    "        for gg2 in operators:\n",
    "            if ((gg @ gg2).astype(int) not in operators):\n",
    "                return False\n",
    "    print(\"group is closed under multiplication\")\n",
    "    \n",
    "    # Check that gg.T is gg.inv for all gg in group?\n",
    "    for gg in operators:\n",
    "        if not np.allclose(gg @ gg.T, np.eye(D)):\n",
    "            return False\n",
    "    print(\"group operators are the transposes of their inverses\")\n",
    "\n",
    "    return True\n",
    "\n",
    "print(test_group(group_operators))"
   ]
  },
  {
   "cell_type": "markdown",
   "metadata": {
    "id": "ZYTHFpILsjnH"
   },
   "source": [
    "# Define the geometric objects and geometric filters\n",
    "- And visualize them."
   ]
  },
  {
   "cell_type": "code",
   "execution_count": null,
   "metadata": {
    "id": "bFYRWJgntsPE"
   },
   "outputs": [],
   "source": [
    "class ktensor:\n",
    "\n",
    "    def __init__(self, data, parity, D):\n",
    "        self.D = D\n",
    "        assert self.D > 1, \\\n",
    "        \"ktensor: geometry makes no sense if D<2.\"\n",
    "        self.parity = parity\n",
    "        assert np.abs(self.parity) == 1, \\\n",
    "        \"ktensor: parity must be 1 or -1.\"\n",
    "        if len(np.atleast_1d(data)) == 1:\n",
    "            self.data = data\n",
    "            self.k = 0\n",
    "        else:\n",
    "            self.data = np.array(data)\n",
    "            self.k = len(data.shape)\n",
    "            assert np.all(np.array(data.shape) == self.D), \\\n",
    "            \"ktensor: shape must be (D, D, D, ...), but instead it's {}\".format(data.shape)\n",
    "\n",
    "    def __getitem__(self, key):\n",
    "        return self.data[key]\n",
    "\n",
    "    def __add__(self, other):\n",
    "        assert self.k == other.k, \\\n",
    "        \"ktensor: can't add objects of different k\"\n",
    "        assert self.parity == other.parity, \\\n",
    "        \"ktensor: can't add objects of different parity\"\n",
    "        return ktensor(self.data + other.data, self.parity, self.D)\n",
    "\n",
    "    def __mul__(self, other):\n",
    "        if self.k == 0 or other.k == 0:\n",
    "            return ktensor(self.data * other.data,\n",
    "                           self.parity * other.parity, self.D)\n",
    "        return ktensor(np.multiply.outer(self.data, other.data),\n",
    "                       self.parity * other.parity, self.D)\n",
    "\n",
    "    def __str__(self):\n",
    "        return \"<k-tensor object in D={} with k={} and parity={}>\".format(\n",
    "            self.D, self.k, self.parity)\n",
    "\n",
    "    def norm(self):\n",
    "        if self.k == 0:\n",
    "            return np.abs(self.data)\n",
    "        return np.linalg.norm(self.data, ord=2)\n",
    "\n",
    "    def times_scalar(self, scalar):\n",
    "        return ktensor(scalar * self.data, self.parity, self.D)\n",
    "\n",
    "    def times_group_element(self, gg):\n",
    "        # BUG: THIS IS UNTESTED.\n",
    "        # BUG: This is incomprehensible.\n",
    "        assert self.k < 14\n",
    "        assert gg.shape == (self.D, self.D)\n",
    "        sign, logdet = np.linalg.slogdet(gg)\n",
    "        assert logdet == 0.\n",
    "        if self.k == 0:\n",
    "            newdata = 1. * self.data\n",
    "        else:\n",
    "            firstletters  = \"abcdefghijklm\"\n",
    "            secondletters = \"nopqrstuvwxyz\"\n",
    "            einstr = \"\".join([firstletters[i] for i in range(self.k)]) +\",\" + \\\n",
    "            \",\".join([secondletters[i] + firstletters[i] for i in range(self.k)])\n",
    "            foo = (self.data, ) + self.k * (gg, )\n",
    "            newdata = np.einsum(einstr, *foo)\n",
    "        if self.parity < 0:\n",
    "            newdata *= sign\n",
    "        return ktensor(newdata, self.parity, self.D)\n",
    "\n",
    "    def contract(self, i, j):\n",
    "        assert self.k < 27\n",
    "        assert self.k >= 2\n",
    "        assert i < j\n",
    "        assert i < self.k\n",
    "        assert j < self.k\n",
    "        letters  = \"bcdefghijklmnopqrstuvwxyz\"\n",
    "        einstr = letters[:i] + \"a\" + letters[i:j-1] + \"a\" + letters[j-1:self.k-2]\n",
    "        return ktensor(np.einsum(einstr, self.data), self.parity, self.D)\n"
   ]
  },
  {
   "cell_type": "code",
   "execution_count": null,
   "metadata": {
    "id": "PaHwMTcLStY0"
   },
   "outputs": [],
   "source": [
    "k = 8\n",
    "foo = ktensor(np.zeros(k * (D, )), 1, D)\n",
    "print(foo)\n",
    "bar = foo.contract(0, 3)\n",
    "print(bar)"
   ]
  },
  {
   "cell_type": "code",
   "execution_count": null,
   "metadata": {
    "id": "2z4tzfDa61KD"
   },
   "outputs": [],
   "source": [
    "class geometric_filter:\n",
    "\n",
    "    def zeros(M, k, parity, D):\n",
    "        \"\"\"\n",
    "        WARNING: NO `self`; static method maybe?\n",
    "        \"\"\"\n",
    "        shape = (M ** D, ) + k * (D, )\n",
    "        return geometric_filter(np.zeros(shape), parity, D)\n",
    "\n",
    "    def hash(self, pixel):\n",
    "        return tuple(pixel.astype(int))\n",
    "\n",
    "    def make_pixels_and_keys(self):\n",
    "        foo = range(-self.m, self.m + 1)\n",
    "        self._pixels = np.array([pp for pp in it.product(foo, repeat=D)]).astype(int)\n",
    "        self._keys = [self.hash(pp) for pp in self._pixels]\n",
    "        return\n",
    "\n",
    "    def __init__(self, data, parity, D):\n",
    "        self.D = D\n",
    "        self.M = np.round(len(data) ** (1. / D)).astype(int)\n",
    "        assert len(data) == self.M ** self.D, \\\n",
    "        \"geometric_filter: data doesn't seem to be the right length?\"\n",
    "        self.m = (self.M - 1) // 2\n",
    "        assert self.M == 2 * self.m + 1, \\\n",
    "        \"geometric_filter: M needs to be odd.\"\n",
    "        self.make_pixels_and_keys()\n",
    "        self.parity = parity\n",
    "        self.data = {kk: ktensor(ff, self.parity, self.D)\n",
    "                     for kk, ff in zip(self.keys(), data)}\n",
    "        self.k = self[self.keys()[0]].k\n",
    "        return\n",
    "\n",
    "    def copy(self):\n",
    "        return geometric_filter(self.unpack(), self.parity, self.D)\n",
    "\n",
    "    def __getitem__(self, key):\n",
    "        return self.data[key]\n",
    "\n",
    "    def __setitem__(self, key, thing):\n",
    "        self.data[key] = thing\n",
    "        return\n",
    "\n",
    "    def keys(self):\n",
    "        return self._keys\n",
    "\n",
    "    def pixels(self):\n",
    "        return self._pixels\n",
    "\n",
    "    def __add__(self, other):\n",
    "        assert self.D == other.D\n",
    "        assert self.M == other.M\n",
    "        newfilter = self.copy()\n",
    "        for kk in self.keys():\n",
    "            newfilter[kk] = self[kk] + other[kk]\n",
    "        return newfilter\n",
    "\n",
    "    def __str__(self):\n",
    "        return \"<geometric filter object in D={} with M={}, k={}, and parity={}>\".format(\n",
    "            self.D, self.M, self.k, self.parity)\n",
    "\n",
    "    def times_group_element(self, gg):\n",
    "        newfilter = self.copy()\n",
    "        for pp, kk in zip(self.pixels(), self.keys()):\n",
    "            newfilter[kk] = self[self.hash(gg.T @ pp)].times_group_element(gg)\n",
    "        return newfilter\n",
    "\n",
    "    def unpack(self):\n",
    "        return np.array([self[kk].data for kk in self.keys()])\n",
    "\n",
    "    def bigness(self):\n",
    "        numerator, denominator = 0., 0.\n",
    "        for pp, kk in zip(self.pixels(), self.keys()):\n",
    "            numerator += np.linalg.norm(pp * self[kk].norm(), ord=2)\n",
    "            denominator += self[kk].norm()\n",
    "        return numerator / denominator\n",
    "\n",
    "    def normalize(self):\n",
    "        max_norm = np.max([self[kk].norm() for kk in self.keys()])\n",
    "        if max_norm <= TINY:\n",
    "            return self\n",
    "        for kk in self.keys():\n",
    "            self[kk] = self[kk].times_scalar(1. / max_norm)\n",
    "        return self\n",
    "\n",
    "    def contract(self, i, j):\n",
    "        assert self.k >= 2\n",
    "        newfilter = geometric_filter.zeros(self.M, self.k - 2, self.parity, self.D)\n",
    "        for kk in newfilter.keys():\n",
    "            newfilter[kk] = self[kk].contract(i, j)\n",
    "        return newfilter"
   ]
  },
  {
   "cell_type": "code",
   "execution_count": null,
   "metadata": {
    "id": "fxMRi3VjD_zN"
   },
   "outputs": [],
   "source": [
    "# Visualize (badly) a scalar filter.\n",
    "\n",
    "FIGSIZE = (4, 3)\n",
    "XOFF, YOFF = 0.15, -0.1\n",
    "\n",
    "def make_colormap():\n",
    "    foo = np.linspace(0., 0.5, 256)\n",
    "    cmap = cm.get_cmap(\"gray_r\")\n",
    "    colors = [cmap(f) for f in foo]\n",
    "    return ListedColormap(colors)\n",
    "cmap = make_colormap()\n",
    "\n",
    "def setup_plot():\n",
    "    fig = plt.figure(figsize=FIGSIZE)\n",
    "    return fig\n",
    "\n",
    "def finish_plot(title, pixels):\n",
    "    plt.title(title)\n",
    "    if D == 2:\n",
    "        plt.xlim(np.min(pixels)-0.5, np.max(pixels)+0.5)\n",
    "        plt.ylim(np.min(pixels)-0.5, np.max(pixels)+0.5)\n",
    "    if D == 3:\n",
    "        plt.xlim(np.min(pixels)-0.75, np.max(pixels)+0.75)\n",
    "        plt.ylim(np.min(pixels)-0.75, np.max(pixels)+0.75)\n",
    "    plt.gca().set_aspect(\"equal\")\n",
    "    plt.gca().set_xticks([])\n",
    "    plt.gca().set_yticks([])\n",
    "\n",
    "def plot_boxes(xs, ys):\n",
    "    for x, y in zip(xs, ys):\n",
    "        plt.plot([x-0.5, x-0.5, x+0.5, x+0.5, x-0.5],\n",
    "                 [y-0.5, y+0.5, y+0.5, y-0.5, y-0.5], \"k-\", lw=0.5)\n",
    "\n",
    "def fill_boxes(xs, ys, ws, vmin, vmax, cmap, zorder=-100, colorbar=False):\n",
    "    cmx = cm.ScalarMappable(cmap=cmap)\n",
    "    cmx.set_clim(vmin, vmax)\n",
    "    cs = cmx.to_rgba(ws)\n",
    "    if colorbar:\n",
    "        plt.colorbar(cmx)\n",
    "    for x, y, c in zip(xs, ys, cs):\n",
    "        plt.fill_between([x - 0.5, x + 0.5], [y - 0.5, y - 0.5], [y + 0.5, y + 0.5],\n",
    "                             color=c, zorder=zorder)\n",
    "\n",
    "def plot_scalars(xs, ys, ws, boxes=True, fill=True, symbols=True,\n",
    "                 vmin=0., vmax=5., cmap=cmap, colorbar=False,\n",
    "                 norm_fill=False):\n",
    "    if boxes:\n",
    "        plot_boxes(xs, ys)\n",
    "    if fill:\n",
    "        if norm_fill:\n",
    "            nws = np.abs(ws)\n",
    "        else:\n",
    "            nws = ws\n",
    "        fill_boxes(xs, ys, nws, vmin, vmax, cmap, colorbar=colorbar)\n",
    "    if symbols:\n",
    "        plt.scatter(xs[ws > TINY], ys[ws > TINY],\n",
    "                    marker=\"+\", c=\"k\", s=(1000/M)*ws[ws > TINY])\n",
    "        plt.scatter(xs[ws < TINY], ys[ws < TINY],\n",
    "                    marker=\"_\", c=\"k\", s=(-1000/M)*ws[ws < TINY])\n",
    "\n",
    "def plot_scalar_filter(filter, title):\n",
    "    assert filter.k == 0\n",
    "    if filter.D not in [2, 3]:\n",
    "        print(\"plot_scalar_filter(): Only works for D in [2, 3].\")\n",
    "        return\n",
    "    setup_plot()\n",
    "    MtotheD = filter.M ** filter.D\n",
    "    xs, ys, zs = np.zeros(MtotheD), np.zeros(MtotheD), np.zeros(MtotheD)\n",
    "    ws = np.zeros(MtotheD)\n",
    "    for i, (kk, pp) in enumerate(zip(filter.keys(), filter.pixels())):\n",
    "        ws[i] = filter[kk].data\n",
    "        if filter.D == 2:\n",
    "            xs[i], ys[i] = pp\n",
    "        elif filter.D == 3:\n",
    "            xs[i], ys[i] = pp[0] + XOFF * pp[2], pp[1] + XOFF * pp[2]\n",
    "    plot_scalars(xs, ys, ws, norm_fill=True)\n",
    "    finish_plot(title, filter.pixels())"
   ]
  },
  {
   "cell_type": "code",
   "execution_count": null,
   "metadata": {
    "id": "QmQQUQoGnC2u"
   },
   "outputs": [],
   "source": [
    "np.random.seed(17)\n",
    "foo = geometric_filter(np.random.normal(size=3 ** D), 1, D)\n",
    "plot_scalar_filter(foo, \"foo\")\n",
    "for i, gg in enumerate(group_operators[:4]):\n",
    "    plot_scalar_filter(foo.times_group_element(gg), \"$g_{}\\cdot$foo\".format(i))"
   ]
  },
  {
   "cell_type": "code",
   "execution_count": null,
   "metadata": {
    "id": "pYXICGwCHFTi"
   },
   "outputs": [],
   "source": [
    "# Visualize the vector filters.\n",
    "\n",
    "def plot_vectors(xs, ys, ws, boxes=True, fill=True,\n",
    "                 vmin=0., vmax=10., cmap=cmap, scaling=0.33):\n",
    "    if boxes:\n",
    "        plot_boxes(xs, ys)\n",
    "    if fill:\n",
    "        fill_boxes(xs, ys, np.sum(np.abs(ws), axis=-1), vmin, vmax, cmap)\n",
    "    for x, y, w in zip(xs, ys, ws):\n",
    "        if np.sum(w * w) > TINY:\n",
    "            plt.arrow(x - scaling * w[0], y - scaling * w[1],\n",
    "                      2 * scaling * w[0], 2 * scaling * w[1],\n",
    "                      length_includes_head=True, head_width=0.1, color=\"k\")\n",
    "\n",
    "def plot_vector_filter(filter, title):\n",
    "    assert filter.k == 1\n",
    "    if filter.D not in [2, 3]:\n",
    "        print(\"plot_vector_filter(): Only works for D in [2, 3].\")\n",
    "        return\n",
    "    setup_plot()\n",
    "    MtotheD = filter.M ** filter.D\n",
    "    xs, ys, zs = np.zeros(MtotheD), np.zeros(MtotheD), np.zeros(MtotheD)\n",
    "    ws = np.zeros((MtotheD, filter.D))\n",
    "    for i, (kk, pp) in enumerate(zip(filter.keys(), filter.pixels())):\n",
    "        ws[i] = filter[kk].data\n",
    "        if filter.D == 2:\n",
    "            xs[i], ys[i] = pp\n",
    "        elif filter.D == 3:\n",
    "            xs[i], ys[i] = pp[0] + XOFF * pp[2], pp[1] + YOFF * pp[2]\n",
    "    plot_vectors(xs, ys, ws)\n",
    "    finish_plot(title, filter.pixels())"
   ]
  },
  {
   "cell_type": "code",
   "execution_count": null,
   "metadata": {
    "id": "U5o7keM-sTY4"
   },
   "outputs": [],
   "source": [
    "foo = geometric_filter(0.5 * np.random.normal(size=(3 ** D, D)), 1, D)\n",
    "plot_vector_filter(foo, \"foo\")\n",
    "for i, gg in enumerate(group_operators[:4]):\n",
    "    plot_vector_filter(foo.times_group_element(gg), \"$g_{}\\cdot$foo\".format(i))"
   ]
  },
  {
   "cell_type": "markdown",
   "metadata": {
    "id": "3z3bM0xSm_ls"
   },
   "source": [
    "# Now start the process of making the invariant filters"
   ]
  },
  {
   "cell_type": "code",
   "execution_count": null,
   "metadata": {
    "id": "xPOirFX7na-w"
   },
   "outputs": [],
   "source": [
    "# What are the unique scalar filters?\n",
    "# ISSUE: For the k=1, parity = 1 case this should set divergence positive.\n",
    "# ISSUE: For the k=1, parity = 1 case this should set curl out of the board.\n",
    "\n",
    "def get_unique_filters(M, k, parity, D):\n",
    "\n",
    "    # make the seed filters\n",
    "    tmp = geometric_filter.zeros(M, k, parity, D)\n",
    "    M, D, keys, shape = tmp.M, tmp.D, tmp.keys(), tmp.unpack().shape\n",
    "    allfilters = []\n",
    "    if k == 0:\n",
    "        for kk in keys:\n",
    "            thisfilter = geometric_filter.zeros(M, k, parity, D)\n",
    "            thisfilter[kk].data = 1\n",
    "            allfilters.append(thisfilter)\n",
    "    else:\n",
    "        for kk in keys:\n",
    "            thisfilter = geometric_filter.zeros(M, k, parity, D)\n",
    "            for indices in it.product(range(D), repeat=k):\n",
    "                thisfilter[kk].data[indices] = 1\n",
    "                allfilters.append(thisfilter)\n",
    "\n",
    "    # do the group averaging\n",
    "    bigshape = (len(allfilters), ) + thisfilter.unpack().flatten().shape\n",
    "    filter_matrix = np.zeros(bigshape)\n",
    "    for i, f1 in enumerate(allfilters):\n",
    "        ff = geometric_filter.zeros(M, k, parity, D)\n",
    "        for gg in group_operators:\n",
    "            ff = ff + f1.times_group_element(gg)\n",
    "        filter_matrix[i] = ff.unpack().flatten()\n",
    "\n",
    "    # do the SVD\n",
    "    u, s, v = np.linalg.svd(filter_matrix)\n",
    "    sbig = s > TINY\n",
    "    if not np.any(sbig):\n",
    "        return []\n",
    "\n",
    "    # normalize the amplitudes so they max out at +/- 1.\n",
    "    amps = v[sbig] / np.max(np.abs(v[sbig]), axis=1)[:, None]\n",
    "    # make sure the amps are positive, generally\n",
    "    for i in range(len(amps)):\n",
    "        if np.sum(amps[i]) < 0:\n",
    "            amps[i] *= -1\n",
    "    # make sure that the zeros are zeros.\n",
    "    amps[np.abs(amps) < TINY] = 0.\n",
    "\n",
    "    # order them\n",
    "    filters = [geometric_filter(aa.reshape(shape), parity, D).normalize() for aa in amps]\n",
    "    norms = [ff.bigness() for ff in filters]\n",
    "    I = np.argsort(norms)\n",
    "    filters = [filters[i] for i in I]\n",
    "    return filters"
   ]
  },
  {
   "cell_type": "code",
   "execution_count": null,
   "metadata": {
    "id": "VE4_gBvJTslZ"
   },
   "outputs": [],
   "source": [
    "scalar_filters = get_unique_filters(M, 0, 1, D)\n",
    "for i, ff in enumerate(scalar_filters):\n",
    "    plot_scalar_filter(ff, \"scalar {}\".format(i))"
   ]
  },
  {
   "cell_type": "code",
   "execution_count": null,
   "metadata": {
    "id": "a7o2odmIWwi2"
   },
   "outputs": [],
   "source": [
    "pseudoscalar_filters = get_unique_filters(M, 0, -1, D)\n",
    "for i, ff in enumerate(pseudoscalar_filters):\n",
    "    plot_scalar_filter(ff, \"pseudoscalar {}\".format(i))"
   ]
  },
  {
   "cell_type": "code",
   "execution_count": null,
   "metadata": {
    "id": "5exjnu7eAHdc"
   },
   "outputs": [],
   "source": [
    "vector_filters = get_unique_filters(M, 1, 1, D)\n",
    "ff = vector_filters[0]\n",
    "for i, ff in enumerate(vector_filters):\n",
    "    plot_vector_filter(ff, \"vector {}\".format(i))"
   ]
  },
  {
   "cell_type": "code",
   "execution_count": null,
   "metadata": {
    "id": "TC5l_2-juOLJ"
   },
   "outputs": [],
   "source": [
    "pseudovector_filters = get_unique_filters(M, 1, -1, D)\n",
    "for i, ff in enumerate(pseudovector_filters):\n",
    "    plot_vector_filter(ff, \"pseudovector {}\".format(i))"
   ]
  },
  {
   "cell_type": "code",
   "execution_count": null,
   "metadata": {
    "id": "XnocvKusCelq"
   },
   "outputs": [],
   "source": [
    "tt_filters = get_unique_filters(M, 2, 1, D)\n",
    "for ff in tt_filters:\n",
    "    print(ff)"
   ]
  },
  {
   "cell_type": "code",
   "execution_count": null,
   "metadata": {
    "id": "j5LXiCaz2p5N"
   },
   "outputs": [],
   "source": [
    "# Visualize the 2-tensor filters\n",
    "# HOGG TBD"
   ]
  },
  {
   "cell_type": "code",
   "execution_count": null,
   "metadata": {
    "id": "6F0slFk7h45w"
   },
   "outputs": [],
   "source": [
    "# Visualize contractions of the 2-tensor filters\n",
    "for i, ff in enumerate(tt_filters):\n",
    "    plot_scalar_filter(ff.contract(0, 1).normalize(), \"2-tensor {}, but contracted\".format(i))"
   ]
  },
  {
   "cell_type": "code",
   "execution_count": null,
   "metadata": {
    "id": "vyAWXtg_1Tnv"
   },
   "outputs": [],
   "source": [
    "ptt_filters = get_unique_filters(M, 2, -1, D)\n",
    "for ff in ptt_filters:\n",
    "    print(ff)"
   ]
  },
  {
   "cell_type": "code",
   "execution_count": null,
   "metadata": {
    "id": "NRG3K6O5k2mo"
   },
   "outputs": [],
   "source": [
    "# Visualize contractions of the pseudo-2-tensor filters\n",
    "for i, ff in enumerate(ptt_filters):\n",
    "    plot_scalar_filter(ff.contract(0, 1).normalize(), \"pseudo-2-tensor {}, contracted\".format(i))"
   ]
  },
  {
   "cell_type": "markdown",
   "metadata": {
    "id": "mPRDUz-_GdaR"
   },
   "source": [
    "# Define geometric images and convolutions"
   ]
  },
  {
   "cell_type": "code",
   "execution_count": null,
   "metadata": {
    "id": "OFhj9ajnGiow"
   },
   "outputs": [],
   "source": [
    "# We need `finufft` to make fake data\n",
    "!pip install finufft\n",
    "import finufft"
   ]
  },
  {
   "cell_type": "code",
   "execution_count": null,
   "metadata": {
    "id": "DvqvD9Zi1m9S"
   },
   "outputs": [],
   "source": [
    "class geometric_image:\n",
    "\n",
    "    def zeros(N, k, parity, D):\n",
    "        \"\"\"\n",
    "        WARNING: No `self`; static method.\n",
    "        \"\"\"\n",
    "        shape = D * (N, ) + k * (D, )\n",
    "        return geometric_image(np.zeros(shape), parity, D)\n",
    "\n",
    "    def hash(self, pixel):\n",
    "        \"\"\"\n",
    "        ## Note:\n",
    "        - Deals with torus by modding (with `np.remainder()`).\n",
    "        \"\"\"\n",
    "        return tuple(np.remainder(pixel.astype(int), self.N))\n",
    "\n",
    "    def make_pixels_and_keys(self):\n",
    "        self._pixels = np.array([pp for pp in it.product(range(self.N),\n",
    "                                                         repeat=D)]).astype(int)\n",
    "        self._keys = [self.hash(pp) for pp in self._pixels]\n",
    "        return\n",
    "\n",
    "    def __init__(self, data, parity, D):\n",
    "        self.D = D\n",
    "        self.N = len(data)\n",
    "        assert data.shape[:D] == self.D * (self.N, ), \\\n",
    "        \"geometric_filter: data must be square.\"\n",
    "        self.make_pixels_and_keys()\n",
    "        self.parity = parity\n",
    "        self.data = {kk: ktensor(data[kk], self.parity, self.D)\n",
    "                     for kk in self.keys()}\n",
    "        self.k = self[self.keys()[0]].k\n",
    "        return\n",
    "\n",
    "    def copy(self):\n",
    "        return geometric_image(self.unpack(), self.parity, self.D)\n",
    "\n",
    "    def __getitem__(self, key):\n",
    "        return self.data[key]\n",
    "\n",
    "    def __setitem__(self, key, thing):\n",
    "        self.data[key] = thing\n",
    "        return\n",
    "\n",
    "    def keys(self):\n",
    "        return self._keys\n",
    "\n",
    "    def pixels(self):\n",
    "        return self._pixels\n",
    "\n",
    "    def __add__(self, other):\n",
    "        assert self.D == other.D\n",
    "        assert self.N == other.N\n",
    "        assert self.k == other.k\n",
    "        assert self.parity == other.parity\n",
    "        newimage = self.copy()\n",
    "        for kk in self.keys():\n",
    "            newimage[kk] = self[kk] + other[kk]\n",
    "        return newimage\n",
    "\n",
    "    def __mul__(self, other):\n",
    "        assert self.D == other.D\n",
    "        assert self.N == other.N\n",
    "        newk, newparity = self.k + other.k, self.parity * other.parity\n",
    "        newimage = geometric_image.zeros(self.N, newk, newparity, self.D)\n",
    "        assert newimage.D == self.D\n",
    "        assert newimage.N == self.N\n",
    "        assert newimage.k == newk\n",
    "        for kk in self.keys():\n",
    "            newimage.data[kk] = self[kk] * other[kk] # handled by ktensor\n",
    "        return newimage\n",
    "\n",
    "    def __str__(self):\n",
    "        return \"<geometric image object in D={} with N={}, k={}, and parity={}>\".format(\n",
    "            self.D, self.N, self.k, self.parity)\n",
    "\n",
    "    def unpack(self):\n",
    "        shape = self.D * (self.N, ) + self.k * (self.D, )\n",
    "        package = np.zeros(shape)\n",
    "        for kk in self.keys():\n",
    "            package[kk] = self[kk].data\n",
    "        return package\n",
    "\n",
    "    def convolve_with(self, filter):\n",
    "        newk, newparity = self.k + filter.k, self.parity * filter.parity\n",
    "        newimage = geometric_image.zeros(self.N, newk, newparity, self.D)\n",
    "        for kk, pp in zip(self.keys(), self.pixels()):\n",
    "            for dk, dp in zip(filter.keys(), filter.pixels()):\n",
    "                newimage.data[kk] += self[self.hash(pp + dp)] * filter[dk]\n",
    "        return newimage\n",
    "\n",
    "    def normalize(self):\n",
    "        max_norm = np.max([self[kk].norm() for kk in self.keys()])\n",
    "        for kk in self.keys():\n",
    "            self[kk] = self[kk].times_scalar(1. / max_norm)\n",
    "        return self\n",
    "\n",
    "    def contract(self, i, j):\n",
    "        assert self.k >= 2\n",
    "        newk = self.k - 2\n",
    "        newimage = geometric_image.zeros(self.N, newk, self.parity, self.D)\n",
    "        for kk in self.keys():\n",
    "            newimage.data[kk] = self[kk].contract(i, j)\n",
    "        return newimage"
   ]
  },
  {
   "cell_type": "code",
   "execution_count": null,
   "metadata": {
    "id": "8qqu5z7jGxnl"
   },
   "outputs": [],
   "source": [
    "# make a sensible smooth scalar image on a 2-torus\n",
    "N = 16\n",
    "assert D == 2\n",
    "np.random.seed(42)\n",
    "image = np.random.normal(size=D * (N, ))\n",
    "foo = np.pi * np.arange(-1. + 1. / N, 1., 2. / N)\n",
    "ys, xs = np.meshgrid(foo, foo) # ys, xs or xs, ys??\n",
    "ft = finufft.nufft2d1(xs.flatten(), ys.flatten(), image.flatten().astype(complex), (6, 5))\n",
    "package = finufft.nufft2d2(xs.flatten(), ys.flatten(), ft).reshape(N, N).real\n",
    "package -= np.mean(package)\n",
    "package /= np.sqrt(np.mean(package ** 2))\n",
    "print(package.shape, ft.shape)\n",
    "scalar_image = geometric_image(package, 1, D)\n",
    "print(scalar_image)"
   ]
  },
  {
   "cell_type": "code",
   "execution_count": null,
   "metadata": {
    "id": "RsePU4USIk9O"
   },
   "outputs": [],
   "source": [
    "def setup_image_plot():\n",
    "    ff = plt.figure(figsize=(8, 6))\n",
    "    return ff\n",
    "\n",
    "def plot_scalar_image(image):\n",
    "    ff = setup_image_plot()\n",
    "    plotdata = np.array([[pp[0], pp[1], image[kk].data]\n",
    "                         for kk, pp in zip(image.keys(), image.pixels())])\n",
    "    plt.gca().set_aspect(\"equal\", adjustable=\"box\")\n",
    "    vmin, vmax = np.percentile(plotdata[:, 2], [2.5, 97.5])\n",
    "    plot_scalars(plotdata[:, 0], plotdata[:, 1], plotdata[:, 2],\n",
    "                 symbols=False, vmin=vmin, vmax=vmax, colorbar=True)\n",
    "    image_axis(plotdata)\n",
    "\n",
    "def image_axis(plotdata):\n",
    "    plt.xlim(np.min(plotdata[:, 0])-0.5, np.max(plotdata[:, 0])+0.5)\n",
    "    plt.ylim(np.min(plotdata[:, 1])-0.5, np.max(plotdata[:, 1])+0.5)\n",
    "    plt.gca().set_aspect(\"equal\")\n",
    "    plt.gca().set_xticks([])\n",
    "    plt.gca().set_yticks([])\n",
    "\n",
    "plot_scalar_image(scalar_image)\n",
    "plt.title(\"scalar image\")"
   ]
  },
  {
   "cell_type": "code",
   "execution_count": null,
   "metadata": {
    "id": "SS-TFCl9JQEf"
   },
   "outputs": [],
   "source": [
    "# Make a sensible smooth vector image on a 2-torus\n",
    "np.random.seed(42)\n",
    "imagex = np.random.normal(size=(N, N))\n",
    "imagey = np.random.normal(size=(N, N))\n",
    "ftx = finufft.nufft2d1(xs.flatten(), ys.flatten(), imagex.flatten().astype(complex), (3, 3))\n",
    "fty = finufft.nufft2d1(xs.flatten(), ys.flatten(), imagey.flatten().astype(complex), (3, 3))\n",
    "package = np.zeros((N, N, D))\n",
    "package[:, :, 0] = finufft.nufft2d2(xs.flatten(), ys.flatten(), ftx).reshape(N, N).real\n",
    "package[:, :, 1] = finufft.nufft2d2(xs.flatten(), ys.flatten(), fty).reshape(N, N).real\n",
    "package /= np.sqrt(np.mean(package ** 2))\n",
    "print(package.shape, ftx.shape)\n",
    "vector_image = geometric_image(package, 1, D)\n",
    "print(vector_image)"
   ]
  },
  {
   "cell_type": "code",
   "execution_count": null,
   "metadata": {
    "id": "KD1X3NWY0j8e"
   },
   "outputs": [],
   "source": [
    "def plot_vector_image(image, overplot=False):\n",
    "    assert image.D == 2\n",
    "    if not overplot:\n",
    "        setup_image_plot()\n",
    "    plotdata = np.array([[pp[0], pp[1], image[kk].data[0], image[kk].data[1]]\n",
    "                         for kk, pp in zip(image.keys(), image.pixels())])\n",
    "    plot_vectors(plotdata[:, 0], plotdata[:, 1], plotdata[:, 2:4],\n",
    "                 boxes=True, fill=False)\n",
    "    image_axis(plotdata)\n",
    "\n",
    "plot_vector_image(vector_image)\n",
    "plt.title(\"vector image\")"
   ]
  },
  {
   "cell_type": "code",
   "execution_count": null,
   "metadata": {
    "id": "T-FKunLZx2M_"
   },
   "outputs": [],
   "source": [
    "# Now plot convlutions of images with filters\n",
    "# - for example: \"(scalar image) \\star (pseudovector 0)\"\n",
    "sstarv = scalar_image.convolve_with(vector_filters[0])\n",
    "print(\"s star v:\", sstarv)\n",
    "sstars = scalar_image.convolve_with(scalar_filters[1])\n",
    "print(\"s star s:\", sstars)\n",
    "vstars = vector_image.convolve_with(scalar_filters[0])\n",
    "print(\"v star s:\", vstars)\n",
    "vstarv = vector_image.convolve_with(vector_filters[1])\n",
    "print(\"v star v:\", vstarv)\n",
    "if len(pseudovector_filters) > 0:\n",
    "    sstarpv = scalar_image.convolve_with(pseudovector_filters[0])\n",
    "    vstarpv = vector_image.convolve_with(pseudovector_filters[0])\n",
    "    print(\"v star pv:\", vstarpv)"
   ]
  },
  {
   "cell_type": "code",
   "execution_count": null,
   "metadata": {
    "id": "EC9b9xxh2aXI"
   },
   "outputs": [],
   "source": [
    "plot_scalar_image(scalar_image)\n",
    "plot_vector_image(sstarpv.normalize(), overplot=True)\n",
    "plt.title(\"scalar image STAR pseudovector filter\")"
   ]
  },
  {
   "cell_type": "code",
   "execution_count": null,
   "metadata": {
    "id": "WGxdErADMkqc"
   },
   "outputs": [],
   "source": [
    "new_scalar_image = vstarv.contract(0, 1)\n",
    "print(new_scalar_image)"
   ]
  },
  {
   "cell_type": "code",
   "execution_count": null,
   "metadata": {
    "id": "mlpNUpksZraD"
   },
   "outputs": [],
   "source": [
    "plot_scalar_image(new_scalar_image)\n",
    "plt.title(\"vector image STAR vector filter, contracted\")"
   ]
  },
  {
   "cell_type": "code",
   "execution_count": null,
   "metadata": {
    "id": "euDyqmeVaLI0"
   },
   "outputs": [],
   "source": [
    "new_new_scalar_image = (sstarpv * sstarpv).contract(0, 1)\n",
    "print(sstarpv)\n",
    "print(sstarpv * sstarpv)\n",
    "print(new_new_scalar_image)"
   ]
  },
  {
   "cell_type": "code",
   "execution_count": null,
   "metadata": {
    "id": "lZKp0Om1lxk4"
   },
   "outputs": [],
   "source": [
    "plot_scalar_image(new_new_scalar_image)\n",
    "plt.title(\"product of pseudo-vectors, contracted\")"
   ]
  },
  {
   "cell_type": "code",
   "execution_count": null,
   "metadata": {
    "id": "V1PfAQg8p6Sp"
   },
   "outputs": [],
   "source": []
  }
 ],
 "metadata": {
  "colab": {
   "collapsed_sections": [],
   "include_colab_link": true,
   "name": "group_averaging.ipynb",
   "provenance": []
  },
  "kernelspec": {
   "display_name": "Python 3 (ipykernel)",
   "language": "python",
   "name": "python3"
  },
  "language_info": {
   "codemirror_mode": {
    "name": "ipython",
    "version": 3
   },
   "file_extension": ".py",
   "mimetype": "text/x-python",
   "name": "python",
   "nbconvert_exporter": "python",
   "pygments_lexer": "ipython3",
   "version": "3.9.12"
  }
 },
 "nbformat": 4,
 "nbformat_minor": 1
}
