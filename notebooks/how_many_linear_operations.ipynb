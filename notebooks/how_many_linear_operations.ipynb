{
 "cells": [
  {
   "cell_type": "markdown",
   "id": "0134ced9",
   "metadata": {},
   "source": [
    "# Ask questions about how many linear ops there are\n",
    "\n",
    "## Authors:\n",
    "- **David W. Hogg** (NYU) (MPIA) (Flatiron)\n",
    "- **Soledad Villar** (JHU)\n",
    "\n",
    "## To-do items and bugs:\n",
    "- Do something."
   ]
  },
  {
   "cell_type": "code",
   "execution_count": 1,
   "id": "cb453713",
   "metadata": {},
   "outputs": [],
   "source": [
    "import itertools as it\n",
    "import numpy as np\n",
    "import geometric as geom\n",
    "import finufft\n",
    "import pylab as plt\n",
    "%load_ext autoreload\n",
    "%autoreload 2"
   ]
  },
  {
   "cell_type": "code",
   "execution_count": 2,
   "id": "d7457f4b",
   "metadata": {},
   "outputs": [],
   "source": [
    "D = 3\n",
    "group_operators = geom.make_all_operators(D)\n",
    "print(len(group_operators))"
   ]
  },
  {
   "cell_type": "code",
   "execution_count": 3,
   "id": "fd529235",
   "metadata": {},
   "outputs": [
    {
     "name": "stdout",
     "output_type": "stream",
     "text": [
      "group is closed under multiplication\n",
      "group operators are the transposes of their inverses\n"
     ]
    },
    {
     "data": {
      "text/plain": [
       "True"
      ]
     },
     "execution_count": 3,
     "metadata": {},
     "output_type": "execute_result"
    }
   ],
   "source": [
    "geom.test_group(group_operators)"
   ]
  },
  {
   "cell_type": "code",
   "execution_count": 4,
   "id": "f450d53e",
   "metadata": {},
   "outputs": [
    {
     "name": "stdout",
     "output_type": "stream",
     "text": [
      "passed (parity = -1) vector dot test.\n",
      "passed (parity = -1) tensor times tensor test\n",
      "passed (parity = -1) v T v test.\n",
      "passed (parity = 1) vector dot test.\n",
      "passed (parity = 1) tensor times tensor test\n",
      "passed (parity = 1) v T v test.\n"
     ]
    },
    {
     "data": {
      "text/plain": [
       "True"
      ]
     },
     "execution_count": 4,
     "metadata": {},
     "output_type": "execute_result"
    }
   ],
   "source": [
    "geom.test_group_actions(group_operators)"
   ]
  },
  {
   "cell_type": "code",
   "execution_count": null,
   "id": "2ad2a13f",
   "metadata": {},
   "outputs": [],
   "source": [
    "allfilters = {}\n",
    "names = {}\n",
    "maxn = {}\n",
    "for M in [3, ]:\n",
    "    maxn[(D, M)] = 0\n",
    "    klist = (0, 1, 2)\n",
    "    for k, parity in it.product(klist, (1, -1)):\n",
    "        key = (D, M, k, parity)\n",
    "        allfilters[key] = geom.get_unique_invariant_filters(M, k, parity, D, group_operators)\n",
    "        n = len(allfilters[key])\n",
    "        if n > maxn[(D, M)]:\n",
    "            maxn[(D, M)] = n\n",
    "        names[key] = [\"{} {}\".format(geom.ktensor.name(k, parity), i) for i in range(n)]"
   ]
  },
  {
   "cell_type": "code",
   "execution_count": null,
   "id": "39f44472",
   "metadata": {},
   "outputs": [],
   "source": [
    "dpi = 300\n",
    "paritysign = {1: \"+\", -1: \"-\"}\n",
    "for key in allfilters.keys():\n",
    "    D, M, k, parity = key\n",
    "    fig = geom.plot_filters(allfilters[key], names[key], maxn[(D, M)])\n",
    "    plotname = \"filter{}{}_{}_{}.png\".format(paritysign[parity], k, D, M)"
   ]
  },
  {
   "cell_type": "code",
   "execution_count": null,
   "id": "154cf39a",
   "metadata": {},
   "outputs": [],
   "source": [
    "# Make a sensible vector image on a 2-torus\n",
    "N = 3\n",
    "np.random.seed(42)\n",
    "imagex = np.random.normal(size=(N, N))\n",
    "imagey = np.random.normal(size=(N, N))\n",
    "package = np.zeros((N, N, D))\n",
    "filtered = False # True if you want the image to be \"smooth\".\n",
    "if filtered:\n",
    "    foo = np.pi * np.arange(-1. + 1. / N, 1., 2. / N)\n",
    "    ys, xs = np.meshgrid(foo, foo) # ys, xs or xs, ys??\n",
    "    ftx = finufft.nufft2d1(xs.flatten(), ys.flatten(), imagex.flatten().astype(complex), (12, 12))\n",
    "    fty = finufft.nufft2d1(xs.flatten(), ys.flatten(), imagey.flatten().astype(complex), (12, 12))\n",
    "    package[:, :, 0] = finufft.nufft2d2(xs.flatten(), ys.flatten(), ftx).reshape(N, N).real\n",
    "    package[:, :, 1] = finufft.nufft2d2(xs.flatten(), ys.flatten(), fty).reshape(N, N).real\n",
    "else:\n",
    "    package[:, :, 0] = imagex\n",
    "    package[:, :, 1] = imagey\n",
    "package /= np.sqrt(np.mean(package ** 2))\n",
    "print(package.shape)\n",
    "vector_image = geom.geometric_image(package, 1, D).normalize()\n",
    "print(vector_image)"
   ]
  },
  {
   "cell_type": "code",
   "execution_count": null,
   "id": "ac0e33b0",
   "metadata": {},
   "outputs": [],
   "source": [
    "fig = geom.plot_image(vector_image)"
   ]
  },
  {
   "cell_type": "code",
   "execution_count": null,
   "id": "cb9f40e4",
   "metadata": {},
   "outputs": [],
   "source": [
    "# How can we make a vector image from this vector image?\n",
    "# 1. Convolve with scalar filters\n",
    "M = 3\n",
    "key = (2, M, 0, 1) # D M k parity\n",
    "v_images = [vector_image.convolve_with(ff).normalize() for ff in allfilters[key]]\n",
    "print(len(v_images))"
   ]
  },
  {
   "cell_type": "code",
   "execution_count": null,
   "id": "6f3b7128",
   "metadata": {},
   "outputs": [],
   "source": [
    "# 2. Convolve with pseudoscalar filters and Levi-Civita contract\n",
    "# Oh wait, we don't have any pseudoscalars at 3x3!\n",
    "key = (2, M, 0, -1) # D M k parity\n",
    "v_images += [vector_image.convolve_with(ff).levi_civita_contract(0).normalize() for ff in allfilters[key]]\n",
    "print(len(v_images))"
   ]
  },
  {
   "cell_type": "code",
   "execution_count": null,
   "id": "bf60d112",
   "metadata": {},
   "outputs": [],
   "source": [
    "# 3. Convolve with 2-tensor filters and contract\n",
    "key = (2, M, 2, 1) # D M k parity\n",
    "v_images += [vector_image.convolve_with(ff).contract(0, 1).normalize() for ff in allfilters[key]]\n",
    "v_images += [vector_image.convolve_with(ff).contract(0, 2).normalize() for ff in allfilters[key]]\n",
    "print(len(v_images))"
   ]
  },
  {
   "cell_type": "code",
   "execution_count": null,
   "id": "7f7494f4",
   "metadata": {},
   "outputs": [],
   "source": [
    "# 4. Convolve with 2-pseudotensor filters, Levi-Civita contract, and contract\n",
    "key = (2, M, 2, -1) # D M k parity\n",
    "v_images += [vector_image.convolve_with(ff).levi_civita_contract(0).contract(0, 1).normalize() for ff in allfilters[key]]\n",
    "v_images += [vector_image.convolve_with(ff).levi_civita_contract(0).contract(0, 2).normalize() for ff in allfilters[key]]\n",
    "print(len(v_images))"
   ]
  },
  {
   "cell_type": "code",
   "execution_count": null,
   "id": "73dc09ed",
   "metadata": {},
   "outputs": [],
   "source": [
    "datablock = np.array([im.unpack().flatten() for im in v_images])\n",
    "print(datablock.shape)\n",
    "u, s, v = np.linalg.svd(datablock)\n",
    "print(\"there are\", np.sum(s > geom.TINY), \"different images\")"
   ]
  },
  {
   "cell_type": "code",
   "execution_count": null,
   "id": "db3bd153",
   "metadata": {},
   "outputs": [],
   "source": []
  }
 ],
 "metadata": {
  "kernelspec": {
   "display_name": "Python 3 (ipykernel)",
   "language": "python",
   "name": "python3"
  },
  "language_info": {
   "codemirror_mode": {
    "name": "ipython",
    "version": 3
   },
   "file_extension": ".py",
   "mimetype": "text/x-python",
   "name": "python",
   "nbconvert_exporter": "python",
   "pygments_lexer": "ipython3",
   "version": "3.9.12"
  }
 },
 "nbformat": 4,
 "nbformat_minor": 5
}
